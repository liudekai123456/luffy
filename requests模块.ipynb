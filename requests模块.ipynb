{
 "cells": [
  {
   "cell_type": "markdown",
   "metadata": {},
   "source": [
    "#### requests模块\n",
    "    -概念：python中原生的基于网络请求的模块。模拟浏览器进行请求发送，获取页面数据。\n",
    "    - 安装：pip install requests"
   ]
  },
  {
   "cell_type": "code",
   "execution_count": 20,
   "metadata": {},
   "outputs": [
    {
     "name": "stdout",
     "output_type": "stream",
     "text": [
      "over\n"
     ]
    }
   ],
   "source": [
    "#爬取搜狗首页的页面数据\n",
    "#1.指定url\n",
    "#2.基于requests模块的请求发送\n",
    "#3.获取响应对象中的数据值\n",
    "#4.持久化存储\n",
    "\n",
    "import requests\n",
    "\n",
    "#1.\n",
    "url = 'https://www.sogou.com/'\n",
    "\n",
    "#2.调用get方法，该方法就可以根据指定的url发起请求，返回一个响应对象\n",
    "response = requests.get(url=url,proxies={'https':'121.139.218.165:31409'})\n",
    "\n",
    "#3.text属性就可以将响应对象中的数据值进行获取,text属性返回的数据类型是str\n",
    "page_text = response.text\n",
    "\n",
    "\n",
    "#print(page_text)\n",
    "#4.\n",
    "with open('./sogou.html','w',encoding='utf-8') as fp:\n",
    "    fp.write(page_text)\n",
    "    print('over')"
   ]
  },
  {
   "cell_type": "code",
   "execution_count": 4,
   "metadata": {
    "collapsed": true
   },
   "outputs": [
    {
     "data": {
      "text/plain": [
       "b'<!DOCTYPE html>\\r\\n<html lang=\"cn\">\\r\\n<head>\\r\\n    <script>window._speedMark = new Date();\\r\\n     window.lead_ip = \\'223.72.93.24\\';window.now = 1540780023507;</script>    <meta charset=\"utf-8\">\\r\\n<link rel=\"dns-prefetch\" href=\"//img01.sogoucdn.com\"><link rel=\"dns-prefetch\" href=\"//img02.sogoucdn.com\"><link rel=\"dns-prefetch\" href=\"//img03.sogoucdn.com\"><link rel=\"dns-prefetch\" href=\"//img04.sogoucdn.com\"><link rel=\"dns-prefetch\" href=\"//dlweb.sogoucdn.com\">\\r\\n<title>\\xe6\\x90\\x9c\\xe7\\x8b\\x97\\xe6\\x90\\x9c\\xe7\\xb4\\xa2\\xe5\\xbc\\x95\\xe6\\x93\\x8e - \\xe4\\xb8\\x8a\\xe7\\xbd\\x91\\xe4\\xbb\\x8e\\xe6\\x90\\x9c\\xe7\\x8b\\x97\\xe5\\xbc\\x80\\xe5\\xa7\\x8b</title>\\r\\n<link rel=\"shortcut icon\" href=\"/images/logo/new/favicon.ico?v=4\" type=\"image/x-icon\">\\r\\n<meta http-equiv=\"X-UA-Compatible\" content=\"IE=Edge\">\\r\\n<link rel=\"search\" type=\"application/opensearchdescription+xml\" href=\"/content-search.xml\" title=\"\\xe6\\x90\\x9c\\xe7\\x8b\\x97\\xe6\\x90\\x9c\\xe7\\xb4\\xa2\">\\r\\n<meta name=\"keywords\" content=\"\\xe6\\x90\\x9c\\xe7\\x8b\\x97\\xe6\\x90\\x9c\\xe7\\xb4\\xa2,\\xe7\\xbd\\x91\\xe9\\xa1\\xb5\\xe6\\x90\\x9c\\xe7\\xb4\\xa2,\\xe5\\xbe\\xae\\xe4\\xbf\\xa1\\xe6\\x90\\x9c\\xe7\\xb4\\xa2,\\xe8\\xa7\\x86\\xe9\\xa2\\x91\\xe6\\x90\\x9c\\xe7\\xb4\\xa2,\\xe5\\x9b\\xbe\\xe7\\x89\\x87\\xe6\\x90\\x9c\\xe7\\xb4\\xa2,\\xe9\\x9f\\xb3\\xe4\\xb9\\x90\\xe6\\x90\\x9c\\xe7\\xb4\\xa2,\\xe6\\x96\\xb0\\xe9\\x97\\xbb\\xe6\\x90\\x9c\\xe7\\xb4\\xa2,\\xe8\\xbd\\xaf\\xe4\\xbb\\xb6\\xe6\\x90\\x9c\\xe7\\xb4\\xa2,\\xe9\\x97\\xae\\xe7\\xad\\x94\\xe6\\x90\\x9c\\xe7\\xb4\\xa2,\\xe7\\x99\\xbe\\xe7\\xa7\\x91\\xe6\\x90\\x9c\\xe7\\xb4\\xa2,\\xe8\\xb4\\xad\\xe7\\x89\\xa9\\xe6\\x90\\x9c\\xe7\\xb4\\xa2\">\\r\\n<meta name=\"description\" content=\"\\xe4\\xb8\\xad\\xe5\\x9b\\xbd\\xe6\\x9c\\x80\\xe9\\xa2\\x86\\xe5\\x85\\x88\\xe7\\x9a\\x84\\xe4\\xb8\\xad\\xe6\\x96\\x87\\xe6\\x90\\x9c\\xe7\\xb4\\xa2\\xe5\\xbc\\x95\\xe6\\x93\\x8e\\xef\\xbc\\x8c\\xe6\\x94\\xaf\\xe6\\x8c\\x81\\xe5\\xbe\\xae\\xe4\\xbf\\xa1\\xe5\\x85\\xac\\xe4\\xbc\\x97\\xe5\\x8f\\xb7\\xe3\\x80\\x81\\xe6\\x96\\x87\\xe7\\xab\\xa0\\xe6\\x90\\x9c\\xe7\\xb4\\xa2\\xef\\xbc\\x8c\\xe9\\x80\\x9a\\xe8\\xbf\\x87\\xe7\\x8b\\xac\\xe6\\x9c\\x89\\xe7\\x9a\\x84SogouRank\\xe6\\x8a\\x80\\xe6\\x9c\\xaf\\xe5\\x8f\\x8a\\xe4\\xba\\xba\\xe5\\xb7\\xa5\\xe6\\x99\\xba\\xe8\\x83\\xbd\\xe7\\xae\\x97\\xe6\\xb3\\x95\\xe4\\xb8\\xba\\xe6\\x82\\xa8\\xe6\\x8f\\x90\\xe4\\xbe\\x9b\\xe6\\x9c\\x80\\xe5\\xbf\\xab\\xe3\\x80\\x81\\xe6\\x9c\\x80\\xe5\\x87\\x86\\xe3\\x80\\x81\\xe6\\x9c\\x80\\xe5\\x85\\xa8\\xe7\\x9a\\x84\\xe6\\x90\\x9c\\xe7\\xb4\\xa2\\xe6\\x9c\\x8d\\xe5\\x8a\\xa1\\xe3\\x80\\x82\">    <link rel=\"stylesheet\" type=\"text/css\" href=\"/web/index/css/base.v.1.4.11.css\">\\r\\n<style>.wrapper .suggestion{border: 1px solid #e8e8e8; width:622px;-moz-box-shadow: 0px 1px 8px rgba(0,0,0,0.1);-webkit-box-shadow: 0px 1px 8px rgba(0,0,0,0.1);box-shadow: 0px 1px 8px rgba(0,0,0,0.1);border-top-left-radius: 0px;border-top-right-radius: 0px;border-bottom-right-radius: 2px;border-bottom-left-radius: 2px; top:43px;}  .wrapper .suglist{width: 206px;}  .wrapper .suglist .keyword {color: #7a77c8;}  .big-scn .suggestion {width: 654px;}  .big-scn .suglist{width:236px;}  .wrapper .suglist{ padding:4px 0}</style></head>\\r\\n<body >\\r\\n        <div class=\"bg-gj-w\" id=\"settings-mask\" style=\"display: none;\"></div>\\r\\n<div class=\"gjss\" id=\"settings-advanced\" style=\"display: none;top:-240px;\">\\r\\n    <div class=\"hf-box\" id=\"settings-save-layer\">\\r\\n        <div class=\"hf-def\">\\xe5\\xb7\\xb2\\xe4\\xbf\\x9d\\xe5\\xad\\x98\\xe8\\xae\\xbe\\xe7\\xbd\\xae</div>\\r\\n    </div>\\r\\n    <div class=\"gjss-tab\">\\r\\n        <a uigs-id=\"tab_set\" href=\"javascript:void(0);\" class=\"js-settings-tab tab-a cur\">\\xe6\\x90\\x9c\\xe7\\xb4\\xa2\\xe8\\xae\\xbe\\xe7\\xbd\\xae</a>\\r\\n        <a uigs-id=\"tab_adv\" href=\"javascript:void(0);\" class=\"js-settings-tab tab-a\">\\xe9\\xab\\x98\\xe7\\xba\\xa7\\xe6\\x90\\x9c\\xe7\\xb4\\xa2</a>\\r\\n        <a href=\"javascript:void(0);\" class=\"close-btn\" id=\"settings-close\"></a>\\r\\n    </div>\\r\\n    <div class=\"gjss-main\">\\r\\n        <div class=\"gjss-sz js-settings-content\">\\r\\n            <p class=\"gjss-err js-settings-mask\" style=\"display: none;\">\\xe6\\x90\\x9c\\xe7\\xb4\\xa2\\xe8\\xae\\xbe\\xe7\\xbd\\xae\\xe6\\x9a\\x82\\xe4\\xb8\\x8d\\xe5\\x8f\\xaf\\xe7\\x94\\xa8\\xef\\xbc\\x8c\\xe8\\xaf\\xb7\\xe5\\x90\\xaf\\xe7\\x94\\xa8\\xe6\\xb5\\x8f\\xe8\\xa7\\x88\\xe5\\x99\\xa8\\xe7\\x9a\\x84Cookie\\xe5\\x8a\\x9f\\xe8\\x83\\xbd\\xef\\xbc\\x8c\\xe7\\x84\\xb6\\xe5\\x90\\x8e\\xe5\\x88\\xb7\\xe6\\x96\\xb0\\xe6\\x9c\\xac\\xe9\\xa1\\xb5\\xe3\\x80\\x82</p>\\r\\n            <div class=\"bg-wkq js-settings-mask\" id=\"settings-tips\" style=\"display: none;\"></div>\\r\\n\\r\\n            <dl class=\"js-as-select\">\\r\\n                <dt>\\xe6\\x90\\x9c\\xe7\\xb4\\xa2\\xe7\\xbb\\x93\\xe6\\x9e\\x9c\\xe6\\x98\\xbe\\xe7\\xa4\\xba\\xe6\\x9d\\xa1\\xe6\\x95\\xb0</dt>\\r\\n                <dd>\\r\\n                    <a href=\"javascript:void(0);\" class=\"xz\" id=\"settings-number\" data-value=\"10\">\\xe6\\xaf\\x8f\\xe9\\xa1\\xb5\\xe6\\x98\\xbe\\xe7\\xa4\\xba10\\xe6\\x9d\\xa1</a>\\r\\n                    <ul id=\"settings-number-list\">\\r\\n                        <li><a uigs-id=\"set_10\" href=\"javascript:void(0);\" data-value=\"10\">\\xe6\\xaf\\x8f\\xe9\\xa1\\xb5\\xe6\\x98\\xbe\\xe7\\xa4\\xba10\\xe6\\x9d\\xa1</a></li>\\r\\n                        <li><a uigs-id=\"set-20\" href=\"javascript:void(0);\" data-value=\"20\">\\xe6\\xaf\\x8f\\xe9\\xa1\\xb5\\xe6\\x98\\xbe\\xe7\\xa4\\xba20\\xe6\\x9d\\xa1</a></li>\\r\\n                        <li><a uigs-id=\"set-50\" href=\"javascript:void(0);\" data-value=\"50\">\\xe6\\xaf\\x8f\\xe9\\xa1\\xb5\\xe6\\x98\\xbe\\xe7\\xa4\\xba50\\xe6\\x9d\\xa1</a></li>\\r\\n                        <li><a uigs-id=\"set-100\" href=\"javascript:void(0);\" data-value=\"100\">\\xe6\\xaf\\x8f\\xe9\\xa1\\xb5\\xe6\\x98\\xbe\\xe7\\xa4\\xba100\\xe6\\x9d\\xa1</a></li>\\r\\n                    </ul>\\r\\n                </dd>\\r\\n                <input type=\"hidden\" name=\"pageNum\" id=\"settings-show-number\" value=\"10\">\\r\\n            </dl>\\r\\n            <p class=\"enter\" style=\"padding-top: 20px;\">\\r\\n                <a href=\"javascript:void(0);\" id=\"settings-save\" uigs-id=\"set-save\" class=\"a1\">\\xe4\\xbf\\x9d\\xe5\\xad\\x98</a>\\r\\n                <a href=\"javascript:void(0);\" id=\"settings-reset\" uigs-id=\"set-reset\" class=\"a2\">\\xe6\\x81\\xa2\\xe5\\xa4\\x8d\\xe9\\xbb\\x98\\xe8\\xae\\xa4</a>\\r\\n            </p>\\r\\n        </div>\\r\\n        <div class=\"gjss-sz js-settings-content\" style=\"display: none;\">\\r\\n            <form action=\"/web\" target=\"_blank\" id=\"advanced-search-form\">\\r\\n                <input type=\"hidden\" name=\"query\" value=\"\">\\r\\n                <input name=\"fieldtitle\" type=\"hidden\" value=\"\"/>\\r\\n                <input name=\"fieldcontent\" type=\"hidden\" value=\"\"/>\\r\\n                <input name=\"fieldstripurl\" type=\"hidden\" value=\"\"/>\\r\\n                <input name=\"bstype\" type=\"hidden\" value=\"\"/>\\r\\n                <input name=\"ie\" type=\"hidden\" value=\"utf8\"/>\\r\\n                <dl>\\r\\n                    <dt>\\xe6\\x90\\x9c\\xe7\\xb4\\xa2\\xe5\\x85\\xb3\\xe9\\x94\\xae\\xe8\\xaf\\x8d</dt>\\r\\n                    <dd class=\"js-as-radio\">\\r\\n                                                <div class=\"input-box js-input-box\" id=\"advanced-query-box\">\\r\\n                            <input name=\"q\" type=\"text\" must=\"1\" size=\"42\" maxlength=\"100\" autocomplete=\"off\" placeholder=\"\\xe4\\xbe\\x8b\\xe5\\xa6\\x82\\xef\\xbc\\x9a\\xe6\\x90\\x9c\\xe7\\x8b\\x97\\xe7\\x9c\\x9f\\xe6\\xa3\\x92\\xef\\xbc\\x88\\xe5\\xa4\\x9a\\xe4\\xb8\\xaa\\xe5\\x85\\xb3\\xe9\\x94\\xae\\xe8\\xaf\\x8d\\xe5\\x8f\\xaf\\xe7\\x94\\xa8\\xe7\\xa9\\xba\\xe6\\xa0\\xbc\\xe5\\x8c\\xba\\xe5\\x88\\x86\\xef\\xbc\\x89\">\\r\\n                            <span class=\"err-word\">* \\xe8\\xaf\\xb7\\xe8\\xbe\\x93\\xe5\\x85\\xa5\\xe6\\x90\\x9c\\xe7\\xb4\\xa2\\xe5\\x85\\xb3\\xe9\\x94\\xae\\xe8\\xaf\\x8d</span>\\r\\n                        </div>\\r\\n                        <a uigs-id=\"adv_split-query\" href=\"javascript:void(0);\" data-value=\"checkbox\" class=\"dk-btn cur\">\\xe6\\x8b\\x86\\xe5\\x88\\x86\\xe5\\x85\\xb3\\xe9\\x94\\xae\\xe8\\xaf\\x8d</a>\\r\\n                        <a uigs-id=\"adv_no-split-query\" href=\"javascript:void(0);\" data-value=\"\" class=\"dk-btn\">\\xe4\\xb8\\x8d\\xe6\\x8b\\x86\\xe5\\x88\\x86\\xe5\\x85\\xb3\\xe9\\x94\\xae\\xe8\\xaf\\x8d</a>\\r\\n                        <input type=\"hidden\" name=\"include\" value=\"checkbox\">\\r\\n                    </dd>\\r\\n                </dl>\\r\\n                <dl>\\r\\n                    <dt>\\xe5\\x9c\\xa8\\xe6\\x8c\\x87\\xe5\\xae\\x9a\\xe7\\xab\\x99\\xe5\\x86\\x85\\xe6\\x90\\x9c\\xe7\\xb4\\xa2</dt>\\r\\n                    <dd>\\r\\n                        <div class=\"input-box js-input-box\"><input name=\"sitequery\" type=\"text\" size=\"40\" autocomplete=\"off\" placeholder=\"\\xe4\\xbe\\x8b\\xe5\\xa6\\x82\\xef\\xbc\\x9awww.sogou.com\"></div>\\r\\n                    </dd>\\r\\n                </dl>\\r\\n                <dl class=\"js-as-select\" style=\"padding-top:16px\">\\r\\n                    <dt>\\xe6\\x90\\x9c\\xe7\\xb4\\xa2\\xe8\\xaf\\x8d\\xe4\\xbd\\x8d\\xe4\\xba\\x8e</dt>\\r\\n                    <dd>\\r\\n                        <a href=\"javascript:void(0);\" class=\"xz\">\\xe7\\xbd\\x91\\xe9\\xa1\\xb5\\xe4\\xb8\\xad\\xe4\\xbb\\xbb\\xe4\\xbd\\x95\\xe5\\x9c\\xb0\\xe6\\x96\\xb9</a>\\r\\n                        <ul>\\r\\n                            <li><a href=\"javascript:void(0);\" data-value=\"0\">\\xe7\\xbd\\x91\\xe9\\xa1\\xb5\\xe4\\xb8\\xad\\xe4\\xbb\\xbb\\xe4\\xbd\\x95\\xe5\\x9c\\xb0\\xe6\\x96\\xb9</a></li>\\r\\n                            <li><a href=\"javascript:void(0);\" data-value=\"1\">\\xe4\\xbb\\x85\\xe5\\x9c\\xa8\\xe6\\xa0\\x87\\xe9\\xa2\\x98\\xe4\\xb8\\xad</a></li>\\r\\n                            <li><a href=\"javascript:void(0);\" data-value=\"2\">\\xe4\\xbb\\x85\\xe5\\x9c\\xa8\\xe6\\xad\\xa3\\xe6\\x96\\x87\\xe4\\xb8\\xad</a></li>\\r\\n                            <li><a href=\"javascript:void(0);\" data-value=\"3\">\\xe4\\xbb\\x85\\xe5\\x9c\\xa8\\xe7\\xbd\\x91\\xe5\\x9d\\x80\\xe4\\xb8\\xad</a></li>\\r\\n                        </ul>\\r\\n                    </dd>\\r\\n                    <input type=\"hidden\" name=\"located\" value=\"0\">\\r\\n                </dl>\\r\\n                <dl class=\"js-as-select\" style=\"padding-top:16px\">\\r\\n                    <dt>\\xe9\\x9c\\x80\\xe8\\xa6\\x81\\xe6\\x90\\x9c\\xe7\\xb4\\xa2\\xe7\\x9a\\x84\\xe6\\x96\\x87\\xe4\\xbb\\xb6\\xe6\\xa0\\xbc\\xe5\\xbc\\x8f</dt>\\r\\n                    <dd >\\r\\n                        <a href=\"javascript:void(0);\" class=\"xz\">\\xe5\\x85\\xa8\\xe9\\x83\\xa8\\xe7\\xbd\\x91\\xe9\\xa1\\xb5</a>\\r\\n                        <ul>\\r\\n                            <li><a href=\"javascript:void(0);\" data-value=\"\">\\xe5\\x85\\xa8\\xe9\\x83\\xa8\\xe7\\xbd\\x91\\xe9\\xa1\\xb5</a></li>\\r\\n                            <li><a href=\"javascript:void(0);\" data-value=\"doc\">Microsoft Word (.doc)</a></li>\\r\\n                            <li><a href=\"javascript:void(0);\" data-value=\"xls\">Microsoft Excel (.xls)</a></li>\\r\\n                            <li><a href=\"javascript:void(0);\" data-value=\"ppt\">Microsoft Powerpoint (.ppt)</a></li>\\r\\n                            <li><a href=\"javascript:void(0);\" data-value=\"pdf\">Adobe Acrobat PDF (.pdf)</a></li>\\r\\n                            <li><a href=\"javascript:void(0);\" data-value=\"rtf\">RTF (.rtf)</a></li>\\r\\n                            <li><a href=\"javascript:void(0);\" data-value=\"all\">\\xe5\\x85\\xa8\\xe9\\x83\\xa8\\xe6\\x96\\x87\\xe6\\xa1\\xa3</a></li>\\r\\n                        </ul>\\r\\n                    </dd>\\r\\n                    <input type=\"hidden\" name=\"filetype\" value=\"\">\\r\\n                </dl>\\r\\n                <dl>\\r\\n                    <dt>\\xe6\\x90\\x9c\\xe7\\xb4\\xa2\\xe7\\xbb\\x93\\xe6\\x9e\\x9c\\xe6\\x8e\\x92\\xe5\\xba\\x8f\\xe6\\x96\\xb9\\xe5\\xbc\\x8f</dt>\\r\\n                    <dd class=\"js-as-radio\">\\r\\n                        <a uigs-id=\"adv_relevance-ranking\" href=\"javascript:void(0);\" data-value=\"off\" class=\"dk-btn cur\">\\xe6\\x8c\\x89\\xe7\\x9b\\xb8\\xe5\\x85\\xb3\\xe6\\x80\\xa7\\xe6\\x8e\\x92\\xe5\\xba\\x8f</a>\\r\\n                        <a uigs-id=\"adv_time-sort\" href=\"javascript:void(0);\" data-value=\"on\" class=\"dk-btn\">\\xe6\\x8c\\x89\\xe6\\x97\\xb6\\xe9\\x97\\xb4\\xe6\\x8e\\x92\\xe5\\xba\\x8f</a>\\r\\n                        <input type=\"hidden\" name=\"tro\" value=\"off\">\\r\\n                    </dd>\\r\\n                </dl>\\r\\n                <p class=\"enter\"><input id=\"adv-search-btn\" uigs-id=\"adv_search-btn\" type=\"submit\" class=\"a1\" value=\"\\xe5\\xbc\\x80\\xe5\\xa7\\x8b\\xe6\\x90\\x9c\\xe7\\xb4\\xa2\"></p>\\r\\n            </form>\\r\\n        </div>\\r\\n    </div>\\r\\n</div>\\r\\n    <div class=\"wrapper\" id=\"wrap\">\\r\\n        <div class=\"header\">\\r\\n            <div class=\"top-nav\">\\r\\n    <ul>\\r\\n        <li><a onclick=\"st(this,\\'40030300\\',\\'news\\')\" href=\"http://news.sogou.com\" uigs-id=\"nav_news\" id=\"news\">\\xe6\\x96\\xb0\\xe9\\x97\\xbb</a></li>\\r\\n        <li class=\"cur\"><span>\\xe7\\xbd\\x91\\xe9\\xa1\\xb5</span></li>\\r\\n        <li><a onclick=\"st(this,\\'73141200\\',\\'weixin\\')\" href=\"http://weixin.sogou.com/\" uigs-id=\"nav_weixin\" id=\"weixinch\">\\xe5\\xbe\\xae\\xe4\\xbf\\xa1</a></li>\\r\\n        <li><a onclick=\"st(this,\\'40051200\\',\\'zhihu\\')\" href=\"http://zhihu.sogou.com/\" uigs-id=\"nav_zhihu\" id=\"zhihu\">\\xe7\\x9f\\xa5\\xe4\\xb9\\x8e</a></li>\\r\\n        <li><a onclick=\"st(this,\\'40030500\\',\\'pic\\')\" href=\"http://pic.sogou.com\" uigs-id=\"nav_pic\" id=\"pic\">\\xe5\\x9b\\xbe\\xe7\\x89\\x87</a></li>\\r\\n        <li><a onclick=\"st(this,\\'40030600\\',\\'video\\')\" href=\"https://v.sogou.com/\" uigs-id=\"nav_v\" id=\"video\">\\xe8\\xa7\\x86\\xe9\\xa2\\x91</a></li>\\r\\n        <li><a href=\"http://mingyi.sogou.com?fr=common_index_nav\" uigs-id=\"nav_mingyi\" id=\"mingyi\" onclick=\"st(this,\\'\\',\\'myingyi\\')\">\\xe6\\x98\\x8e\\xe5\\x8c\\xbb</a></li>\\r\\n        <li><a href=\"http://english.sogou.com?fr=pcweb_index_nav\" uigs-id=\"nav_overseas\" id=\"overseas\" onclick=\"st(this,\\'\\',\\'overseas\\')\" >\\xe8\\x8b\\xb1\\xe6\\x96\\x87</a></li>\\r\\n        <li><a onclick=\"st(this,\\'web2ww\\',\\'wenwen\\')\" href=\"https://wenwen.sogou.com/?ch=websearch\" uigs-id=\"nav_wenwen\" id=\"index_more_wenwen\">\\xe9\\x97\\xae\\xe9\\x97\\xae</a></li>\\r\\n        <li><a href=\"http://scholar.sogou.com?fr=common_index_nav\" uigs-id=\"nav_scholar\" id=\"scholar\" onclick=\"st(this,\\'\\',\\'scholar\\')\">\\xe5\\xad\\xa6\\xe6\\x9c\\xaf</a></li>\\r\\n        <li class=\"show-more\">\\r\\n            <a href=\"javascript:void(0);\" id=\"more-product\">\\xe6\\x9b\\xb4\\xe5\\xa4\\x9a<i class=\"m-arr\"></i></a>\\r\\n            <div class=\"pos-more\" id=\"products-box\" style=\"top: 40px;\">\\r\\n                <span class=\"ico-san\"></span>\\r\\n\\r\\n                <a onclick=\"st(this,\\'40031000\\')\" href=\"http://map.sogou.com\" uigs-id=\"nav_map\" id=\"map\">\\xe5\\x9c\\xb0\\xe5\\x9b\\xbe</a>\\r\\n                <a onclick=\"st(this,\\'40031500\\')\" href=\"http://gouwu.sogou.com/\" uigs-id=\"nav_gouwu\" id=\"index_more_gouwu\">\\xe8\\xb4\\xad\\xe7\\x89\\xa9</a>\\r\\n                <a onclick=\"st(this,\\'40051203\\')\" href=\"http://baike.sogou.com/Home.v\" uigs-id=\"nav_baike\" id=\"index_more_baike\">\\xe7\\x99\\xbe\\xe7\\xa7\\x91</a>\\r\\n                <a onclick=\"st(this)\" href=\"http://zhishi.sogou.com\" uigs-id=\"nav_zhishi\" id=\"index_more_zhishi\">\\xe7\\x9f\\xa5\\xe8\\xaf\\x86</a>\\r\\n                <a onclick=\"st(this,\\'40051205\\')\" href=\"http://as.sogou.com/\" uigs-id=\"nav_app\" id=\"index_more_appli\">\\xe5\\xba\\x94\\xe7\\x94\\xa8</a>\\r\\n                <a onclick=\"st(this,\\'40051205\\',\\'fanyi\\')\" href=\"http://fanyi.sogou.com?fr=common_index_nav_pc\" uigs-id=\"nav_fanyi\" id=\"index_more_fanyi\">\\xe7\\xbf\\xbb\\xe8\\xaf\\x91</a>\\r\\n                <a href=\"http://index.sogou.com\" uigs-id=\"nav_index\" id=\"index_more_index\">\\xe6\\x8c\\x87\\xe6\\x95\\xb0</a>\\r\\n                                    <a href=\"http://dangjian.sogou.com\" uigs-id=\"nav_dangjian\" id=\"dangjian\" onclick=\"st(this,\\'\\',\\'dangjian\\')\">\\xe5\\x85\\x9a\\xe5\\xbb\\xba</a>\\r\\n                                <span class=\"all\"><a onclick=\"st(this,\\'40051206\\')\" href=\"http://www.sogou.com/docs/more.htm?v=1\" uigs-id=\"nav_all\" target=\"_blank\">\\xe5\\x85\\xa8\\xe9\\x83\\xa8</a></span>\\r\\n            </div>\\r\\n        </li>\\r\\n    </ul>\\r\\n</div>            <div class=\"user-box\">\\r\\n    <div class=\"local-weather\" id=\"local-weather\">\\r\\n        <div class=\"wea-box\" id=\"cur-weather\" style=\"display: none;\"></div>\\r\\n        <div class=\"pos-more\" id=\"detail-weather\" style=\"top:40px;\"></div>\\r\\n    </div>\\r\\n    <span class=\"line\" id=\"user-box-line\" style=\"display: none;\"></span>\\r\\n    <div class=\"user-enter\">\\r\\n        <a href=\"javascript:void(0);\" id=\"show-card\" style=\"display: none\" uigs-id=\"settings_show-card\">\\xe6\\x98\\xbe\\xe7\\xa4\\xba\\xe5\\x8d\\xa1\\xe7\\x89\\x87</a>\\r\\n                    <a href=\"javascript:void(0);\" uigs-id=\"settings_change-skin\" id=\"changeSkinBtn\" >\\xe6\\x8d\\xa2\\xe8\\x82\\xa4</a>\\r\\n                <span class=\"s-dw\">\\r\\n            <a href=\"javascript:void(0);\" id=\"settings\">\\xe8\\xae\\xbe\\xe7\\xbd\\xae</a>\\r\\n            <div class=\"pos-more\" id=\"settings-box\" style=\"top:40px;\">\\r\\n                <span class=\"ico-san\"></span>\\r\\n                <a href=\"javascript:void(0);\" id=\"search-settings\" uigs-id=\"settings_config\">\\xe6\\x90\\x9c\\xe7\\xb4\\xa2\\xe8\\xae\\xbe\\xe7\\xbd\\xae</a>\\r\\n                <a href=\"javascript:void(0);\" id=\"advanced-search\" uigs-id=\"settings_advanced\">\\xe9\\xab\\x98\\xe7\\xba\\xa7\\xe6\\x90\\x9c\\xe7\\xb4\\xa2</a>\\r\\n                <a href=\"http://help.sogou.com/?w=01091500&v=1\" uigs-id=\"settings_help\">\\xe5\\xb8\\xae\\xe5\\x8a\\xa9</a>\\r\\n            </div>\\r\\n        </span>\\r\\n                    <a href=\"javascript:void(0);\" class=\"enter\" id=\"loginBtn\">\\xe7\\x99\\xbb\\xe5\\xbd\\x95</a>            </div>\\r\\n</div>\\r\\n        </div>\\r\\n        <div class=\"content\" id=\"content\">\\r\\n            <div class=\"pos-header\" id=\"top-float-bar\">\\r\\n    <div class=\"part-one\"></div>\\r\\n    <div class=\"part-two\" id=\"card-tab-layer\">\\r\\n        <div class=\"c-top\" id=\"top-card-tab\"></div>\\r\\n    </div>\\r\\n</div>\\r\\n<div class=\"logo2\" id=\"logo-s\"><span></span></div>            <div class=\"logo\" id=\"logo-l\"><span></span></div>            <div class=\"search-box\" id=\"search-box\">\\r\\n    <form action=\"/web\" name=\"sf\" id=\"sf\">\\r\\n        <span class=\"sec-input-box\">\\r\\n            <input type=\"text\" class=\"sec-input active\" name=\"query\" id=\"query\" maxlength=\"100\" len=\"80\" autocomplete=\"off\" />\\r\\n        </span>\\r\\n        <span class=\"enter-input\"><input type=\"submit\" value=\"\" id=\"stb\"></span>\\r\\n        <input type=\"hidden\" name=\"_asf\" value=\"www.sogou.com\" />\\r\\n        <input type=\"hidden\" name=\"_ast\" />\\r\\n        <input type=\"hidden\" name=\"w\" value=\"01019900\" />\\r\\n        <input type=\"hidden\" name=\"p\" value=\"40040100\" />\\r\\n        <input type=\"hidden\" name=\"ie\" value=\"utf8\" />\\r\\n                <input type=\"hidden\" name=\"from\" value=\"index-nologin\" />\\r\\n                <input type=\"hidden\" name=\"s_from\" value=\"index\" />\\r\\n        <div class=\"keywords-tips\" id=\"keywordsTips\" style=\"display:none\">\\r\\n            <i></i><p>\\xe6\\x90\\x9c\\xe7\\x8b\\x97\\xe7\\x9a\\x84\\xe6\\x9f\\xa5\\xe8\\xaf\\xa2\\xe9\\x99\\x90\\xe5\\x88\\xb6\\xe5\\x9c\\xa8\"<strong>40\\xe4\\xb8\\xaa\\xe6\\xb1\\x89\\xe5\\xad\\x97</strong>\"\\xe4\\xbb\\xa5\\xe5\\x86\\x85\\xe3\\x80\\x82</p>\\r\\n        </div>\\r\\n    </form>\\r\\n</div>\\r\\n        </div>\\r\\n            <div class=\"card-box\" id=\"card-box\" style=\"display: none;\">\\r\\n    <div class=\"card-box2\" id=\"card-box2\">\\r\\n        <div class=\"c-top\" id=\"card-tab-box\">\\r\\n            <a href=\"javascript:void(0);\" id=\"card-settings\" uigs-id=\"settings_settings-btn\" class=\"shezhi\"></a>\\r\\n            <div class=\"pos-more\" id=\"card-options\">\\r\\n                <span class=\"ico-san\"></span>\\r\\n                <a href=\"javascript:void(0);\" uigs-id=\"settings_close-card\" id=\"close-card\">\\xe5\\x85\\xb3\\xe9\\x97\\xad\\xe5\\x8d\\xa1\\xe7\\x89\\x87</a>\\r\\n            </div>\\r\\n        </div>\\r\\n        <div class=\"c-main\" id=\"card-content\"></div>\\r\\n    </div>\\r\\n</div>\\r\\n<div class=\"loog-more\" id=\"scroll-more\" style=\"display: none;\">\\r\\n    <a href=\"javascript:void(0);\" uigs-id=\"scroll-more\">\\xe6\\xbb\\x9a\\xe5\\x8a\\xa8\\xe6\\x9f\\xa5\\xe7\\x9c\\x8b\\xe6\\x9b\\xb4\\xe5\\xa4\\x9a<br><span class=\"ico_san\"></span></a>\\r\\n</div>            <div class=\"ft\" id=\"footer\" style=\"display: none;\">\\r\\n    <a href=\"http://fuwu.sogou.com/\" target=\"_blank\" uigs-id=\"footer_tuiguang\">\\xe4\\xbc\\x81\\xe4\\xb8\\x9a\\xe6\\x8e\\xa8\\xe5\\xb9\\xbf</a><span class=\"line\"></span><a href=\"http://corp.sogou.com/\" target=\"_blank\" uigs-id=\"footer_about\">\\xe5\\x85\\xb3\\xe4\\xba\\x8e\\xe6\\x90\\x9c\\xe7\\x8b\\x97</a><span class=\"line\"></span><a href=\"http://ir.sogou.com/\" target=\"_blank\" uigs-id=\"footer_aboutEnglish\">About Sogou</a><span class=\"line\"></span><a href=\"http://www.sogou.com/docs/terms.htm?v=1\" target=\"_blank\" uigs-id=\"footer_disclaimer\">\\xe5\\x85\\x8d\\xe8\\xb4\\xa3\\xe5\\xa3\\xb0\\xe6\\x98\\x8e</a><span class=\"line\"></span><a href=\"http://fankui.help.sogou.com/index.php/web/web/index/type/4\" target=\"_blank\"  uigs-id=\"footer_feedback\">\\xe6\\x84\\x8f\\xe8\\xa7\\x81\\xe5\\x8f\\x8d\\xe9\\xa6\\x88\\xe5\\x8f\\x8a\\xe6\\x8a\\x95\\xe8\\xaf\\x89</a><span class=\"line\"></span><a href=\"http://corp.sogou.com/private.html\" target=\"_blank\" uigs-id=\"footer_private\">\\xe9\\x9a\\x90\\xe7\\xa7\\x81\\xe6\\x94\\xbf\\xe7\\xad\\x96</a><br>\\r\\n    &copy;&nbsp;2004-2018&nbsp;Sogou.com&nbsp;/&nbsp;<span class=\"g\">\\xe4\\xba\\xac\\xe7\\xbd\\x91\\xe6\\x96\\x87 (2016) 6432-852\\xe5\\x8f\\xb7</span>&nbsp;/&nbsp;<a href=\"http://www.miibeian.gov.cn\" target=\"_blank\" class=\"g\">\\xe4\\xba\\xacICP\\xe8\\xaf\\x81050897\\xe5\\x8f\\xb7</a><br>\\r\\n    <span class=\"g\">(\\xe4\\xba\\xac)-\\xe7\\xbb\\x8f\\xe8\\x90\\xa5\\xe6\\x80\\xa7-2016-0019</span>&nbsp;/&nbsp;<a href=\"http://www.miibeian.gov.cn/\" target=\"_blank\" class=\"g\">\\xe4\\xba\\xacICP\\xe5\\xa4\\x8711001839\\xe5\\x8f\\xb7-1</a>&nbsp;/&nbsp;<a href=\"http://www.beian.gov.cn/portal/registerSystemInfo?recordcode=11000002000025\" class=\"ba\" target=\"_blank\">\\xe4\\xba\\xac\\xe5\\x85\\xac\\xe7\\xbd\\x91\\xe5\\xae\\x89\\xe5\\xa4\\x8711000002000025\\xe5\\x8f\\xb7</a>\\r\\n</div>\\r\\n<div class=\"ft-v1\" id=\"QRcode-footer\" style=\"padding-bottom:53px; \">\\r\\n    <div class=\"erwm-box\">\\r\\n        <span class=\"ewm\"></span>\\r\\n        <div class=\"erwx\">\\r\\n            <p>\\xe6\\x90\\x9c\\xe7\\x8b\\x97\\xe6\\x90\\x9c\\xe7\\xb4\\xa2APP</p>\\r\\n            <p class=\"p2\">\\xe6\\x90\\x9c\\xe4\\xbd\\xa0\\xe6\\x89\\x80\\xe6\\x83\\xb3</p>\\r\\n        </div>\\r\\n    </div>\\r\\n    <div class=\"ft-info\">\\r\\n        <a uigs-id=\"mid_pinyin\" href=\"http://pinyin.sogou.com/\" target=\"_blank\"><i class=\"i1\"></i>\\xe6\\x90\\x9c\\xe7\\x8b\\x97\\xe8\\xbe\\x93\\xe5\\x85\\xa5\\xe6\\xb3\\x95</a><span class=\"line\"></span><a uigs-id=\"mid_liulanqi\" href=\"http://ie.sogou.com/\" target=\"_blank\"><i class=\"i2\"></i>\\xe6\\xb5\\x8f\\xe8\\xa7\\x88\\xe5\\x99\\xa8</a><span class=\"line\"></span><a uigs-id=\"mid_daohang\" href=\"http://123.sogou.com/\" target=\"_blank\"><i class=\"i3\"></i>\\xe7\\xbd\\x91\\xe5\\x9d\\x80\\xe5\\xaf\\xbc\\xe8\\x88\\xaa</a><br> <a href=\"http://corp.sogou.com/\" target=\"_blank\" class=\"g\">\\xe5\\x85\\xb3\\xe4\\xba\\x8e\\xe6\\x90\\x9c\\xe7\\x8b\\x97</a>&nbsp;-&nbsp;<a href=\"http://ir.sogou.com/\" target=\"_blank\" class=\"g\">About Sogou</a>&nbsp;-&nbsp;<a href=\"http://fuwu.sogou.com/\" target=\"_blank\" class=\"g\">\\xe4\\xbc\\x81\\xe4\\xb8\\x9a\\xe6\\x8e\\xa8\\xe5\\xb9\\xbf</a>&nbsp;-&nbsp;<a href=\"http://www.sogou.com/docs/terms.htm?v=1\" target=\"_blank\" class=\"g\">\\xe5\\x85\\x8d\\xe8\\xb4\\xa3\\xe5\\xa3\\xb0\\xe6\\x98\\x8e</a>&nbsp;-&nbsp;<a href=\"http://fankui.help.sogou.com/index.php/web/web/index/type/4\" target=\"_blank\" class=\"g\">\\xe6\\x84\\x8f\\xe8\\xa7\\x81\\xe5\\x8f\\x8d\\xe9\\xa6\\x88\\xe5\\x8f\\x8a\\xe6\\x8a\\x95\\xe8\\xaf\\x89</a>&nbsp;-&nbsp;<a href=\"http://corp.sogou.com/private.html\" target=\"_blank\" class=\"g\" uigs-id=\"footer_private\">\\xe9\\x9a\\x90\\xe7\\xa7\\x81\\xe6\\x94\\xbf\\xe7\\xad\\x96</a><br>\\r\\n        &copy;&nbsp;2004-2018&nbsp;Sogou.com&nbsp;/&nbsp;<span class=\"g\">\\xe4\\xba\\xac\\xe7\\xbd\\x91\\xe6\\x96\\x87 (2016) 6432-852\\xe5\\x8f\\xb7</span>&nbsp;/&nbsp;<span class=\"g\">(\\xe4\\xba\\xac)-\\xe7\\xbb\\x8f\\xe8\\x90\\xa5\\xe6\\x80\\xa7-2016-0019</span><br>\\r\\n        <a href=\"http://www.miibeian.gov.cn\" target=\"_blank\" class=\"g\">\\xe4\\xba\\xacICP\\xe8\\xaf\\x81050897\\xe5\\x8f\\xb7</a>&nbsp;/&nbsp;<a href=\"http://www.miibeian.gov.cn/\" target=\"_blank\" class=\"g\">\\xe4\\xba\\xacICP\\xe5\\xa4\\x8711001839\\xe5\\x8f\\xb7-1</a>&nbsp;/&nbsp;<a href=\"http://www.beian.gov.cn/portal/registerSystemInfo?recordcode=11000002000025\" class=\"ba\" target=\"_blank\">\\xe4\\xba\\xac\\xe5\\x85\\xac\\xe7\\xbd\\x91\\xe5\\xae\\x89\\xe5\\xa4\\x8711000002000025\\xe5\\x8f\\xb7</a>\\r\\n    </div>\\r\\n</div>            <div class=\"kuozhan\" id=\"QRcode-box\" style=\"display: none;\">\\r\\n    <a href=\"javascript:void(0);\" id=\"miniQRcode\"></a>\\r\\n    <span id=\"QRcode\"></span>\\r\\n</div>\\r\\n<a href=\"javascript:void(0);\" class=\"back-top\" id=\"back-top\"></a>    </div>\\r\\n        <script>\\r\\n    var SugPara, uigs_para,\\r\\n        msBrowserName = navigator.userAgent.toLowerCase(),\\r\\n        msIsSe = false,\\r\\n        msIsMSearch = false,\\r\\n        hasDoodle = false,\\r\\n        queryinput = document.getElementById(\\'query\\');\\r\\n\\r\\n    uigs_para={\\r\\n        \"uigs_productid\": \"webapp\",\\r\\n        \"type\": \"webindex_new\",\\r\\n        \"stype\": \"nologin\",\\r\\n        \"scrnwi\": screen.width,\\r\\n        \"scrnhi\": screen.height,\\r\\n        \"uigs_pbtag\": \"A\",\\r\\n        \"uigs_cookie\": \"SUID,sct\",\\r\\n                \"protocol\": location.protocol.toLowerCase() == \"https:\" ? \"https\" : \"http\"\\r\\n    };\\r\\n\\r\\n    SugPara = {\"enableSug\":true,\"sugType\":\"web\",\"domain\":\"w.sugg.sogou.com\",\"productId\":\"web\",\"sugFormName\":\"sf\",\"inputid\":\"query\",\"submitId\":\"stb\",\"suggestRid\":\"01015002\",\"normalRid\":\"01019900\",\"useParent\":0 ,\"sugglocation\":\"index\",\"showVr\":true,\"showHotwords\":true,\"suggAbtestObject\":{\"suggestHistoryStrategy1\":\"\",\"suggestHistoryStrategy2\":\"0|1|2|3|4|5|6|7|8\",\"suggHistoryAbtest\":\"\"}};\\r\\n\\r\\n        \\r\\n    function mk_con() {\\r\\n        try {\\r\\n            window.external.metasearch(\\'make_connection\\', \\'www.google.com.hk\\');\\r\\n        } catch (e) {}\\r\\n    }\\r\\n\\r\\n    if (/se 2\\\\.x/i.test(msBrowserName)) {\\r\\n        msIsSe = true;\\r\\n    }\\r\\n\\r\\n    if (/metasr/i.test(msBrowserName)) {\\r\\n        msIsMSearch = true;\\r\\n    }\\r\\n\\r\\n    if (queryinput) {\\r\\n        if (msIsSe && msIsMSearch) {\\r\\n            if (queryinput.addEventListener) {\\r\\n                queryinput.addEventListener(\\'keypress\\', mk_con, false);\\r\\n                queryinput.addEventListener(\\'keydown\\', mk_con, false)\\r\\n            } else if (queryinput.attachEvent) {\\r\\n                queryinput.attachEvent(\\'onkeypress\\', mk_con);\\r\\n                queryinput.attachEvent(\\'onkeydown\\', mk_con);\\r\\n            } else {\\r\\n                queryinput.onkeypress = mk_con;\\r\\n                queryinput.onkeydown = mk_con;\\r\\n            }\\r\\n        }\\r\\n    }\\r\\n    function getDomain(){\\r\\n        var domainName = document.domain;\\r\\n        if(domainName.indexOf(\"sogou.com\")==(domainName.length-9)){\\r\\n            return \".sogou.com\";\\r\\n        }else if(domainName.indexOf(\"soso.com\")==(domainName.length-8)){\\r\\n            return \".soso.com\";\\r\\n        }else if(domainName.indexOf(\"sogo.com\") != -1){\\r\\n            return \".sogo.com\"\\r\\n        }\\r\\n    }\\r\\n    window.m_s_index = function() {\\r\\n        var w = document.sf.query,\\r\\n                c = Math.round((new Date().getTime() + Math.random()) * 1000);\\r\\n\\r\\n        w.focus();\\r\\n\\r\\n        if(new RegExp(\"kw=([^&]+)\").test(location.search)) {\\r\\n            if(w.value.length == 0) {\\r\\n                w.value = decodeURIComponent(RegExp.$1);\\r\\n            }\\r\\n        }\\r\\n\\r\\n        if (document.cookie.indexOf(\"SUV=\") < 0) {\\r\\n            document.cookie = \"SUV=\" + c + \";path=/;expires=Sun, 29 July 2026 00:00:00 UTC;domain=\"+getDomain();\\r\\n        }\\r\\n    };\\r\\n\\r\\n    function st(self, p, product, anchor) {\\r\\n        var searchBox = document.sf.query,\\r\\n            query = encodeURIComponent(searchBox.value),\\r\\n\\r\\n            productUrl = {\\r\\n                \"news\": \\'http://news.sogou.com/news?ie=utf8&query=\\',\\r\\n                \"web\": \\'web?ie=utf8&query=\\',\\r\\n                \"weixin\": \\'http://weixin.sogou.com/weixin?type=2&ie=utf8&query=\\',\\r\\n                \"zhihu\": \\'http://zhihu.sogou.com/zhihu?ie=utf8&query=\\',\\r\\n                \"pic\": \\'http://pic.sogou.com/pics?ie=utf8&query=\\',\\r\\n                \"video\": \\'https://v.sogou.com/v?ie=utf8&query=\\',\\r\\n                \"myingyi\": \\'https://www.sogou.com/web?m2web=mingyi.sogou.com&ie=utf8&query=\\',\\r\\n                \"overseas\": \\'http://english.sogou.com?b_o_e=1&ie=utf8&fr=pcweb_index_nav&query=\\',\\r\\n                \"scholar\": \\'http://scholar.sogou.com?ie=utf8&fr=common_index_nav&query=\\',\\r\\n                \"fanyi\": \\'http://fanyi.sogou.com/?fr=common_index_nav_pc&ie=utf8&keyword=\\',\\r\\n                \"wenwen\":\\'http://wenwen.sogou.com/s/?ch=websearch&w=\\',\\r\\n                \"dangjian\":\\'http://dangjian.sogou.com/dangjian?query=\\'\\r\\n            },\\r\\n            newHref = productUrl[product] || self.href;\\r\\n\\r\\n        function getConnectSymbol(url) {\\r\\n            return url.indexOf(\"?\") > -1 ? \\'&\\' : \\'?\\';\\r\\n        }\\r\\n\\r\\n        if(searchBox && searchBox.value !== \\'\\'){\\r\\n\\r\\n            if(productUrl[product]) {\\r\\n                newHref = productUrl[product] + query;\\r\\n            } else if(newHref.indexOf(\"kw=\") > 0) {\\r\\n                newHref = newHref.replace(new RegExp(\"kw=[^&$]*\"), \"kw=\" + query)\\r\\n            } else {\\r\\n                newHref += getConnectSymbol(newHref) + \\'kw=\\' + query;\\r\\n            }\\r\\n        }\\r\\n\\r\\n        if(p){\\r\\n            newHref += getConnectSymbol(newHref) + \"p=\" + p;\\r\\n        }\\r\\n\\r\\n        if (anchor && anchor.length > 0){\\r\\n            newHref += \"#\" + anchor;\\r\\n        }\\r\\n\\r\\n        if (searchBox && searchBox.value == \\'\\' && (product == \\'wenwen\\' || product == \\'dangjian\\')){//\\xe9\\x97\\xae\\xe9\\x97\\xae\\xe9\\xa6\\x96\\xe9\\xa1\\xb5\\xe9\\x93\\xbe\\xe6\\x8e\\xa5\\xe5\\x8d\\x95\\xe7\\x8b\\xac\\xe5\\xa4\\x84\\xe7\\x90\\x86\\r\\n            newHref = self.href;\\r\\n        }\\r\\n\\r\\n        self.href = newHref;\\r\\n    }\\r\\n\\r\\n    window.cid = function(o, p) {\\r\\n        var w = document.sf.query,\\r\\n            q = encodeURIComponent(w.value);\\r\\n\\r\\n        if (!q) {\\r\\n            o.href += \"?cid=\" + p\\r\\n        } else {\\r\\n            if (p === \"web2ww\") {\\r\\n                o.href += \"s/?cid=web2ww&w=\" + q\\r\\n            } else if (p === \"web2bk\") {\\r\\n                o.href += \"Search.e?sp=S\" + q + \"&cid=web2bk\"\\r\\n            }\\r\\n        }\\r\\n    };\\r\\n\\r\\n    window.m_s_index();\\r\\n</script>\\r\\n<script src=\"//dlweb.sogoucdn.com/common/lib/jquery/jquery-1.11.0.min.js\"></script>\\r\\n<script charset=\"gbk\" type=\"text/javascript\" src=\"/js/sugg_new.v.103.js\"></script>\\r\\n<script src=\"/js/pb_v.1.9.6.min.js\"></script>\\r\\n<script src=\"/js/lib/jquery.mousewheel.min.js\"></script>\\r\\n<script src=\"/js/lib/juicer-min.js\"></script>\\r\\n<script src=\"/js/common/widget/login_new.min.v.0.3.js\"></script>\\r\\n<script src=\"//account.sogou.com/static/api/passport-async.js\"></script>\\r\\n<script src=\"/web/index/js/base.v.1.1.14.js\"></script>\\r\\n<script src=\"/web/js/voice.min.v.0.0.6.js\"></script>\\r\\n<script src=\"/web/js/taspeed.min.v.0.0.1.js\"></script>\\r\\n</body>\\r\\n</html>\\r\\n<!--zly-->'"
      ]
     },
     "execution_count": 4,
     "metadata": {},
     "output_type": "execute_result"
    }
   ],
   "source": [
    "response.content #返回的是二进制的页面数据"
   ]
  },
  {
   "cell_type": "code",
   "execution_count": 5,
   "metadata": {
    "collapsed": true
   },
   "outputs": [
    {
     "data": {
      "text/plain": [
       "{'Server': 'nginx', 'Date': 'Mon, 29 Oct 2018 02:27:03 GMT', 'Content-Type': 'text/html; charset=UTF-8', 'Transfer-Encoding': 'chunked', 'Connection': 'keep-alive', 'Vary': 'Accept-Encoding', 'Set-Cookie': 'ABTEST=0|1540780023|v17; expires=Wed, 28-Nov-18 02:27:03 GMT; path=/, IPLOC=CN1100; expires=Tue, 29-Oct-19 02:27:03 GMT; domain=.sogou.com; path=/, SUID=185D48DF2208990A000000005BD66FF7; expires=Sun, 24-Oct-2038 02:27:03 GMT; domain=.sogou.com; path=/, black_passportid=1; domain=.sogou.com; path=/; expires=Thu, 01-Dec-1994 16:00:00 GMT', 'P3P': 'CP=\"CURa ADMa DEVa PSAo PSDo OUR BUS UNI PUR INT DEM STA PRE COM NAV OTC NOI DSP COR\", CP=\"CURa ADMa DEVa PSAo PSDo OUR BUS UNI PUR INT DEM STA PRE COM NAV OTC NOI DSP COR\", CP=\"CURa ADMa DEVa PSAo PSDo OUR BUS UNI PUR INT DEM STA PRE COM NAV OTC NOI DSP COR\"', 'Cache-Control': 'max-age=0', 'Content-Language': 'zh-CN', 'Expires': 'Mon, 29 Oct 2018 02:27:03 GMT', 'UUID': '0d845bc8-6ce4-40a0-b1e4-fd2ec61f3b74', 'Content-Encoding': 'gzip'}"
      ]
     },
     "execution_count": 5,
     "metadata": {},
     "output_type": "execute_result"
    }
   ],
   "source": [
    "response.headers #返回的是响应头信息"
   ]
  },
  {
   "cell_type": "code",
   "execution_count": 6,
   "metadata": {},
   "outputs": [
    {
     "data": {
      "text/plain": [
       "200"
      ]
     },
     "execution_count": 6,
     "metadata": {},
     "output_type": "execute_result"
    }
   ],
   "source": [
    "response.status_code "
   ]
  },
  {
   "cell_type": "code",
   "execution_count": 7,
   "metadata": {},
   "outputs": [
    {
     "data": {
      "text/plain": [
       "'https://www.sogou.com/'"
      ]
     },
     "execution_count": 7,
     "metadata": {},
     "output_type": "execute_result"
    }
   ],
   "source": [
    "response.url"
   ]
  },
  {
   "cell_type": "code",
   "execution_count": 8,
   "metadata": {
    "scrolled": true
   },
   "outputs": [
    {
     "data": {
      "text/plain": [
       "'UTF-8'"
      ]
     },
     "execution_count": 8,
     "metadata": {},
     "output_type": "execute_result"
    }
   ],
   "source": [
    "response.encoding #返回的是响应对象中存储数据的原始编码格式"
   ]
  },
  {
   "cell_type": "code",
   "execution_count": 11,
   "metadata": {},
   "outputs": [
    {
     "name": "stdout",
     "output_type": "stream",
     "text": [
      "enter a word:美女\n"
     ]
    }
   ],
   "source": [
    "#爬取搜狗指定词条搜索后的页面数据\n",
    "word = input('enter a word:')\n",
    "\n",
    "url = 'https://www.sogou.com/web?'\n",
    "#如果url携带了参数，我们最好需要将参数封装到一个字典中\n",
    "param = {\n",
    "    'query':word\n",
    "}\n",
    "#将封装好的参数作业到请求中\n",
    "response = requests.get(url=url,params=param)\n",
    "\n",
    "page_text = response.text\n",
    "\n",
    "fileName = word+'.html'\n",
    "with open(fileName,'w',encoding='utf-8') as fp:\n",
    "    fp.write(page_text)"
   ]
  },
  {
   "cell_type": "code",
   "execution_count": 14,
   "metadata": {
    "collapsed": true
   },
   "outputs": [
    {
     "ename": "SSLError",
     "evalue": "HTTPSConnectionPool(host='www.douban.com', port=443): Max retries exceeded with url: /accounts/login (Caused by SSLError(SSLError(\"bad handshake: Error([('SSL routines', 'tls_process_server_certificate', 'certificate verify failed')],)\",),))",
     "output_type": "error",
     "traceback": [
      "\u001b[1;31m---------------------------------------------------------------------------\u001b[0m",
      "\u001b[1;31mError\u001b[0m                                     Traceback (most recent call last)",
      "\u001b[1;32mc:\\users\\administrator\\appdata\\local\\programs\\python\\python36\\lib\\site-packages\\urllib3\\contrib\\pyopenssl.py\u001b[0m in \u001b[0;36mwrap_socket\u001b[1;34m(self, sock, server_side, do_handshake_on_connect, suppress_ragged_eofs, server_hostname)\u001b[0m\n\u001b[0;32m    440\u001b[0m             \u001b[1;32mtry\u001b[0m\u001b[1;33m:\u001b[0m\u001b[1;33m\u001b[0m\u001b[0m\n\u001b[1;32m--> 441\u001b[1;33m                 \u001b[0mcnx\u001b[0m\u001b[1;33m.\u001b[0m\u001b[0mdo_handshake\u001b[0m\u001b[1;33m(\u001b[0m\u001b[1;33m)\u001b[0m\u001b[1;33m\u001b[0m\u001b[0m\n\u001b[0m\u001b[0;32m    442\u001b[0m             \u001b[1;32mexcept\u001b[0m \u001b[0mOpenSSL\u001b[0m\u001b[1;33m.\u001b[0m\u001b[0mSSL\u001b[0m\u001b[1;33m.\u001b[0m\u001b[0mWantReadError\u001b[0m\u001b[1;33m:\u001b[0m\u001b[1;33m\u001b[0m\u001b[0m\n",
      "\u001b[1;32mc:\\users\\administrator\\appdata\\local\\programs\\python\\python36\\lib\\site-packages\\OpenSSL\\SSL.py\u001b[0m in \u001b[0;36mdo_handshake\u001b[1;34m(self)\u001b[0m\n\u001b[0;32m   1805\u001b[0m         \u001b[0mresult\u001b[0m \u001b[1;33m=\u001b[0m \u001b[0m_lib\u001b[0m\u001b[1;33m.\u001b[0m\u001b[0mSSL_do_handshake\u001b[0m\u001b[1;33m(\u001b[0m\u001b[0mself\u001b[0m\u001b[1;33m.\u001b[0m\u001b[0m_ssl\u001b[0m\u001b[1;33m)\u001b[0m\u001b[1;33m\u001b[0m\u001b[0m\n\u001b[1;32m-> 1806\u001b[1;33m         \u001b[0mself\u001b[0m\u001b[1;33m.\u001b[0m\u001b[0m_raise_ssl_error\u001b[0m\u001b[1;33m(\u001b[0m\u001b[0mself\u001b[0m\u001b[1;33m.\u001b[0m\u001b[0m_ssl\u001b[0m\u001b[1;33m,\u001b[0m \u001b[0mresult\u001b[0m\u001b[1;33m)\u001b[0m\u001b[1;33m\u001b[0m\u001b[0m\n\u001b[0m\u001b[0;32m   1807\u001b[0m \u001b[1;33m\u001b[0m\u001b[0m\n",
      "\u001b[1;32mc:\\users\\administrator\\appdata\\local\\programs\\python\\python36\\lib\\site-packages\\OpenSSL\\SSL.py\u001b[0m in \u001b[0;36m_raise_ssl_error\u001b[1;34m(self, ssl, result)\u001b[0m\n\u001b[0;32m   1545\u001b[0m         \u001b[1;32melse\u001b[0m\u001b[1;33m:\u001b[0m\u001b[1;33m\u001b[0m\u001b[0m\n\u001b[1;32m-> 1546\u001b[1;33m             \u001b[0m_raise_current_error\u001b[0m\u001b[1;33m(\u001b[0m\u001b[1;33m)\u001b[0m\u001b[1;33m\u001b[0m\u001b[0m\n\u001b[0m\u001b[0;32m   1547\u001b[0m \u001b[1;33m\u001b[0m\u001b[0m\n",
      "\u001b[1;32mc:\\users\\administrator\\appdata\\local\\programs\\python\\python36\\lib\\site-packages\\OpenSSL\\_util.py\u001b[0m in \u001b[0;36mexception_from_error_queue\u001b[1;34m(exception_type)\u001b[0m\n\u001b[0;32m     53\u001b[0m \u001b[1;33m\u001b[0m\u001b[0m\n\u001b[1;32m---> 54\u001b[1;33m     \u001b[1;32mraise\u001b[0m \u001b[0mexception_type\u001b[0m\u001b[1;33m(\u001b[0m\u001b[0merrors\u001b[0m\u001b[1;33m)\u001b[0m\u001b[1;33m\u001b[0m\u001b[0m\n\u001b[0m\u001b[0;32m     55\u001b[0m \u001b[1;33m\u001b[0m\u001b[0m\n",
      "\u001b[1;31mError\u001b[0m: [('SSL routines', 'tls_process_server_certificate', 'certificate verify failed')]",
      "\nDuring handling of the above exception, another exception occurred:\n",
      "\u001b[1;31mSSLError\u001b[0m                                  Traceback (most recent call last)",
      "\u001b[1;32mc:\\users\\administrator\\appdata\\local\\programs\\python\\python36\\lib\\site-packages\\urllib3\\connectionpool.py\u001b[0m in \u001b[0;36murlopen\u001b[1;34m(self, method, url, body, headers, retries, redirect, assert_same_host, timeout, pool_timeout, release_conn, chunked, body_pos, **response_kw)\u001b[0m\n\u001b[0;32m    594\u001b[0m             \u001b[1;32mif\u001b[0m \u001b[0mis_new_proxy_conn\u001b[0m\u001b[1;33m:\u001b[0m\u001b[1;33m\u001b[0m\u001b[0m\n\u001b[1;32m--> 595\u001b[1;33m                 \u001b[0mself\u001b[0m\u001b[1;33m.\u001b[0m\u001b[0m_prepare_proxy\u001b[0m\u001b[1;33m(\u001b[0m\u001b[0mconn\u001b[0m\u001b[1;33m)\u001b[0m\u001b[1;33m\u001b[0m\u001b[0m\n\u001b[0m\u001b[0;32m    596\u001b[0m \u001b[1;33m\u001b[0m\u001b[0m\n",
      "\u001b[1;32mc:\\users\\administrator\\appdata\\local\\programs\\python\\python36\\lib\\site-packages\\urllib3\\connectionpool.py\u001b[0m in \u001b[0;36m_prepare_proxy\u001b[1;34m(self, conn)\u001b[0m\n\u001b[0;32m    815\u001b[0m \u001b[1;33m\u001b[0m\u001b[0m\n\u001b[1;32m--> 816\u001b[1;33m         \u001b[0mconn\u001b[0m\u001b[1;33m.\u001b[0m\u001b[0mconnect\u001b[0m\u001b[1;33m(\u001b[0m\u001b[1;33m)\u001b[0m\u001b[1;33m\u001b[0m\u001b[0m\n\u001b[0m\u001b[0;32m    817\u001b[0m \u001b[1;33m\u001b[0m\u001b[0m\n",
      "\u001b[1;32mc:\\users\\administrator\\appdata\\local\\programs\\python\\python36\\lib\\site-packages\\urllib3\\connection.py\u001b[0m in \u001b[0;36mconnect\u001b[1;34m(self)\u001b[0m\n\u001b[0;32m    325\u001b[0m             \u001b[0mserver_hostname\u001b[0m\u001b[1;33m=\u001b[0m\u001b[0mhostname\u001b[0m\u001b[1;33m,\u001b[0m\u001b[1;33m\u001b[0m\u001b[0m\n\u001b[1;32m--> 326\u001b[1;33m             ssl_context=context)\n\u001b[0m\u001b[0;32m    327\u001b[0m \u001b[1;33m\u001b[0m\u001b[0m\n",
      "\u001b[1;32mc:\\users\\administrator\\appdata\\local\\programs\\python\\python36\\lib\\site-packages\\urllib3\\util\\ssl_.py\u001b[0m in \u001b[0;36mssl_wrap_socket\u001b[1;34m(sock, keyfile, certfile, cert_reqs, ca_certs, server_hostname, ssl_version, ciphers, ssl_context, ca_cert_dir)\u001b[0m\n\u001b[0;32m    328\u001b[0m     \u001b[1;32mif\u001b[0m \u001b[0mHAS_SNI\u001b[0m\u001b[1;33m:\u001b[0m  \u001b[1;31m# Platform-specific: OpenSSL with enabled SNI\u001b[0m\u001b[1;33m\u001b[0m\u001b[0m\n\u001b[1;32m--> 329\u001b[1;33m         \u001b[1;32mreturn\u001b[0m \u001b[0mcontext\u001b[0m\u001b[1;33m.\u001b[0m\u001b[0mwrap_socket\u001b[0m\u001b[1;33m(\u001b[0m\u001b[0msock\u001b[0m\u001b[1;33m,\u001b[0m \u001b[0mserver_hostname\u001b[0m\u001b[1;33m=\u001b[0m\u001b[0mserver_hostname\u001b[0m\u001b[1;33m)\u001b[0m\u001b[1;33m\u001b[0m\u001b[0m\n\u001b[0m\u001b[0;32m    330\u001b[0m \u001b[1;33m\u001b[0m\u001b[0m\n",
      "\u001b[1;32mc:\\users\\administrator\\appdata\\local\\programs\\python\\python36\\lib\\site-packages\\urllib3\\contrib\\pyopenssl.py\u001b[0m in \u001b[0;36mwrap_socket\u001b[1;34m(self, sock, server_side, do_handshake_on_connect, suppress_ragged_eofs, server_hostname)\u001b[0m\n\u001b[0;32m    447\u001b[0m             \u001b[1;32mexcept\u001b[0m \u001b[0mOpenSSL\u001b[0m\u001b[1;33m.\u001b[0m\u001b[0mSSL\u001b[0m\u001b[1;33m.\u001b[0m\u001b[0mError\u001b[0m \u001b[1;32mas\u001b[0m \u001b[0me\u001b[0m\u001b[1;33m:\u001b[0m\u001b[1;33m\u001b[0m\u001b[0m\n\u001b[1;32m--> 448\u001b[1;33m                 \u001b[1;32mraise\u001b[0m \u001b[0mssl\u001b[0m\u001b[1;33m.\u001b[0m\u001b[0mSSLError\u001b[0m\u001b[1;33m(\u001b[0m\u001b[1;34m'bad handshake: %r'\u001b[0m \u001b[1;33m%\u001b[0m \u001b[0me\u001b[0m\u001b[1;33m)\u001b[0m\u001b[1;33m\u001b[0m\u001b[0m\n\u001b[0m\u001b[0;32m    449\u001b[0m             \u001b[1;32mbreak\u001b[0m\u001b[1;33m\u001b[0m\u001b[0m\n",
      "\u001b[1;31mSSLError\u001b[0m: (\"bad handshake: Error([('SSL routines', 'tls_process_server_certificate', 'certificate verify failed')],)\",)",
      "\nDuring handling of the above exception, another exception occurred:\n",
      "\u001b[1;31mMaxRetryError\u001b[0m                             Traceback (most recent call last)",
      "\u001b[1;32mc:\\users\\administrator\\appdata\\local\\programs\\python\\python36\\lib\\site-packages\\requests\\adapters.py\u001b[0m in \u001b[0;36msend\u001b[1;34m(self, request, stream, timeout, verify, cert, proxies)\u001b[0m\n\u001b[0;32m    439\u001b[0m                     \u001b[0mretries\u001b[0m\u001b[1;33m=\u001b[0m\u001b[0mself\u001b[0m\u001b[1;33m.\u001b[0m\u001b[0mmax_retries\u001b[0m\u001b[1;33m,\u001b[0m\u001b[1;33m\u001b[0m\u001b[0m\n\u001b[1;32m--> 440\u001b[1;33m                     \u001b[0mtimeout\u001b[0m\u001b[1;33m=\u001b[0m\u001b[0mtimeout\u001b[0m\u001b[1;33m\u001b[0m\u001b[0m\n\u001b[0m\u001b[0;32m    441\u001b[0m                 )\n",
      "\u001b[1;32mc:\\users\\administrator\\appdata\\local\\programs\\python\\python36\\lib\\site-packages\\urllib3\\connectionpool.py\u001b[0m in \u001b[0;36murlopen\u001b[1;34m(self, method, url, body, headers, retries, redirect, assert_same_host, timeout, pool_timeout, release_conn, chunked, body_pos, **response_kw)\u001b[0m\n\u001b[0;32m    638\u001b[0m             retries = retries.increment(method, url, error=e, _pool=self,\n\u001b[1;32m--> 639\u001b[1;33m                                         _stacktrace=sys.exc_info()[2])\n\u001b[0m\u001b[0;32m    640\u001b[0m             \u001b[0mretries\u001b[0m\u001b[1;33m.\u001b[0m\u001b[0msleep\u001b[0m\u001b[1;33m(\u001b[0m\u001b[1;33m)\u001b[0m\u001b[1;33m\u001b[0m\u001b[0m\n",
      "\u001b[1;32mc:\\users\\administrator\\appdata\\local\\programs\\python\\python36\\lib\\site-packages\\urllib3\\util\\retry.py\u001b[0m in \u001b[0;36mincrement\u001b[1;34m(self, method, url, response, error, _pool, _stacktrace)\u001b[0m\n\u001b[0;32m    387\u001b[0m         \u001b[1;32mif\u001b[0m \u001b[0mnew_retry\u001b[0m\u001b[1;33m.\u001b[0m\u001b[0mis_exhausted\u001b[0m\u001b[1;33m(\u001b[0m\u001b[1;33m)\u001b[0m\u001b[1;33m:\u001b[0m\u001b[1;33m\u001b[0m\u001b[0m\n\u001b[1;32m--> 388\u001b[1;33m             \u001b[1;32mraise\u001b[0m \u001b[0mMaxRetryError\u001b[0m\u001b[1;33m(\u001b[0m\u001b[0m_pool\u001b[0m\u001b[1;33m,\u001b[0m \u001b[0murl\u001b[0m\u001b[1;33m,\u001b[0m \u001b[0merror\u001b[0m \u001b[1;32mor\u001b[0m \u001b[0mResponseError\u001b[0m\u001b[1;33m(\u001b[0m\u001b[0mcause\u001b[0m\u001b[1;33m)\u001b[0m\u001b[1;33m)\u001b[0m\u001b[1;33m\u001b[0m\u001b[0m\n\u001b[0m\u001b[0;32m    389\u001b[0m \u001b[1;33m\u001b[0m\u001b[0m\n",
      "\u001b[1;31mMaxRetryError\u001b[0m: HTTPSConnectionPool(host='www.douban.com', port=443): Max retries exceeded with url: /accounts/login (Caused by SSLError(SSLError(\"bad handshake: Error([('SSL routines', 'tls_process_server_certificate', 'certificate verify failed')],)\",),))",
      "\nDuring handling of the above exception, another exception occurred:\n",
      "\u001b[1;31mSSLError\u001b[0m                                  Traceback (most recent call last)",
      "\u001b[1;32m<ipython-input-14-3b32d98d99ed>\u001b[0m in \u001b[0;36m<module>\u001b[1;34m()\u001b[0m\n\u001b[0;32m     10\u001b[0m     \u001b[1;34m\"form_password\"\u001b[0m\u001b[1;33m:\u001b[0m \u001b[1;34m\"bobo@15027900535\"\u001b[0m\u001b[1;33m,\u001b[0m\u001b[1;33m\u001b[0m\u001b[0m\n\u001b[0;32m     11\u001b[0m }\n\u001b[1;32m---> 12\u001b[1;33m \u001b[0mresponse\u001b[0m \u001b[1;33m=\u001b[0m \u001b[0mrequests\u001b[0m\u001b[1;33m.\u001b[0m\u001b[0mpost\u001b[0m\u001b[1;33m(\u001b[0m\u001b[0murl\u001b[0m\u001b[1;33m=\u001b[0m\u001b[0murl\u001b[0m\u001b[1;33m,\u001b[0m\u001b[0mdata\u001b[0m\u001b[1;33m=\u001b[0m\u001b[0mdata\u001b[0m\u001b[1;33m)\u001b[0m\u001b[1;33m\u001b[0m\u001b[0m\n\u001b[0m\u001b[0;32m     13\u001b[0m \u001b[1;33m\u001b[0m\u001b[0m\n\u001b[0;32m     14\u001b[0m \u001b[0mpage_text\u001b[0m \u001b[1;33m=\u001b[0m \u001b[0mresponse\u001b[0m\u001b[1;33m.\u001b[0m\u001b[0mtext\u001b[0m\u001b[1;33m\u001b[0m\u001b[0m\n",
      "\u001b[1;32mc:\\users\\administrator\\appdata\\local\\programs\\python\\python36\\lib\\site-packages\\requests\\api.py\u001b[0m in \u001b[0;36mpost\u001b[1;34m(url, data, json, **kwargs)\u001b[0m\n\u001b[0;32m    110\u001b[0m     \"\"\"\n\u001b[0;32m    111\u001b[0m \u001b[1;33m\u001b[0m\u001b[0m\n\u001b[1;32m--> 112\u001b[1;33m     \u001b[1;32mreturn\u001b[0m \u001b[0mrequest\u001b[0m\u001b[1;33m(\u001b[0m\u001b[1;34m'post'\u001b[0m\u001b[1;33m,\u001b[0m \u001b[0murl\u001b[0m\u001b[1;33m,\u001b[0m \u001b[0mdata\u001b[0m\u001b[1;33m=\u001b[0m\u001b[0mdata\u001b[0m\u001b[1;33m,\u001b[0m \u001b[0mjson\u001b[0m\u001b[1;33m=\u001b[0m\u001b[0mjson\u001b[0m\u001b[1;33m,\u001b[0m \u001b[1;33m**\u001b[0m\u001b[0mkwargs\u001b[0m\u001b[1;33m)\u001b[0m\u001b[1;33m\u001b[0m\u001b[0m\n\u001b[0m\u001b[0;32m    113\u001b[0m \u001b[1;33m\u001b[0m\u001b[0m\n\u001b[0;32m    114\u001b[0m \u001b[1;33m\u001b[0m\u001b[0m\n",
      "\u001b[1;32mc:\\users\\administrator\\appdata\\local\\programs\\python\\python36\\lib\\site-packages\\requests\\api.py\u001b[0m in \u001b[0;36mrequest\u001b[1;34m(method, url, **kwargs)\u001b[0m\n\u001b[0;32m     56\u001b[0m     \u001b[1;31m# cases, and look like a memory leak in others.\u001b[0m\u001b[1;33m\u001b[0m\u001b[1;33m\u001b[0m\u001b[0m\n\u001b[0;32m     57\u001b[0m     \u001b[1;32mwith\u001b[0m \u001b[0msessions\u001b[0m\u001b[1;33m.\u001b[0m\u001b[0mSession\u001b[0m\u001b[1;33m(\u001b[0m\u001b[1;33m)\u001b[0m \u001b[1;32mas\u001b[0m \u001b[0msession\u001b[0m\u001b[1;33m:\u001b[0m\u001b[1;33m\u001b[0m\u001b[0m\n\u001b[1;32m---> 58\u001b[1;33m         \u001b[1;32mreturn\u001b[0m \u001b[0msession\u001b[0m\u001b[1;33m.\u001b[0m\u001b[0mrequest\u001b[0m\u001b[1;33m(\u001b[0m\u001b[0mmethod\u001b[0m\u001b[1;33m=\u001b[0m\u001b[0mmethod\u001b[0m\u001b[1;33m,\u001b[0m \u001b[0murl\u001b[0m\u001b[1;33m=\u001b[0m\u001b[0murl\u001b[0m\u001b[1;33m,\u001b[0m \u001b[1;33m**\u001b[0m\u001b[0mkwargs\u001b[0m\u001b[1;33m)\u001b[0m\u001b[1;33m\u001b[0m\u001b[0m\n\u001b[0m\u001b[0;32m     59\u001b[0m \u001b[1;33m\u001b[0m\u001b[0m\n\u001b[0;32m     60\u001b[0m \u001b[1;33m\u001b[0m\u001b[0m\n",
      "\u001b[1;32mc:\\users\\administrator\\appdata\\local\\programs\\python\\python36\\lib\\site-packages\\requests\\sessions.py\u001b[0m in \u001b[0;36mrequest\u001b[1;34m(self, method, url, params, data, headers, cookies, files, auth, timeout, allow_redirects, proxies, hooks, stream, verify, cert, json)\u001b[0m\n\u001b[0;32m    506\u001b[0m         }\n\u001b[0;32m    507\u001b[0m         \u001b[0msend_kwargs\u001b[0m\u001b[1;33m.\u001b[0m\u001b[0mupdate\u001b[0m\u001b[1;33m(\u001b[0m\u001b[0msettings\u001b[0m\u001b[1;33m)\u001b[0m\u001b[1;33m\u001b[0m\u001b[0m\n\u001b[1;32m--> 508\u001b[1;33m         \u001b[0mresp\u001b[0m \u001b[1;33m=\u001b[0m \u001b[0mself\u001b[0m\u001b[1;33m.\u001b[0m\u001b[0msend\u001b[0m\u001b[1;33m(\u001b[0m\u001b[0mprep\u001b[0m\u001b[1;33m,\u001b[0m \u001b[1;33m**\u001b[0m\u001b[0msend_kwargs\u001b[0m\u001b[1;33m)\u001b[0m\u001b[1;33m\u001b[0m\u001b[0m\n\u001b[0m\u001b[0;32m    509\u001b[0m \u001b[1;33m\u001b[0m\u001b[0m\n\u001b[0;32m    510\u001b[0m         \u001b[1;32mreturn\u001b[0m \u001b[0mresp\u001b[0m\u001b[1;33m\u001b[0m\u001b[0m\n",
      "\u001b[1;32mc:\\users\\administrator\\appdata\\local\\programs\\python\\python36\\lib\\site-packages\\requests\\sessions.py\u001b[0m in \u001b[0;36msend\u001b[1;34m(self, request, **kwargs)\u001b[0m\n\u001b[0;32m    616\u001b[0m \u001b[1;33m\u001b[0m\u001b[0m\n\u001b[0;32m    617\u001b[0m         \u001b[1;31m# Send the request\u001b[0m\u001b[1;33m\u001b[0m\u001b[1;33m\u001b[0m\u001b[0m\n\u001b[1;32m--> 618\u001b[1;33m         \u001b[0mr\u001b[0m \u001b[1;33m=\u001b[0m \u001b[0madapter\u001b[0m\u001b[1;33m.\u001b[0m\u001b[0msend\u001b[0m\u001b[1;33m(\u001b[0m\u001b[0mrequest\u001b[0m\u001b[1;33m,\u001b[0m \u001b[1;33m**\u001b[0m\u001b[0mkwargs\u001b[0m\u001b[1;33m)\u001b[0m\u001b[1;33m\u001b[0m\u001b[0m\n\u001b[0m\u001b[0;32m    619\u001b[0m \u001b[1;33m\u001b[0m\u001b[0m\n\u001b[0;32m    620\u001b[0m         \u001b[1;31m# Total elapsed time of the request (approximately)\u001b[0m\u001b[1;33m\u001b[0m\u001b[1;33m\u001b[0m\u001b[0m\n",
      "\u001b[1;32mc:\\users\\administrator\\appdata\\local\\programs\\python\\python36\\lib\\site-packages\\requests\\adapters.py\u001b[0m in \u001b[0;36msend\u001b[1;34m(self, request, stream, timeout, verify, cert, proxies)\u001b[0m\n\u001b[0;32m    504\u001b[0m             \u001b[1;32mif\u001b[0m \u001b[0misinstance\u001b[0m\u001b[1;33m(\u001b[0m\u001b[0me\u001b[0m\u001b[1;33m.\u001b[0m\u001b[0mreason\u001b[0m\u001b[1;33m,\u001b[0m \u001b[0m_SSLError\u001b[0m\u001b[1;33m)\u001b[0m\u001b[1;33m:\u001b[0m\u001b[1;33m\u001b[0m\u001b[0m\n\u001b[0;32m    505\u001b[0m                 \u001b[1;31m# This branch is for urllib3 v1.22 and later.\u001b[0m\u001b[1;33m\u001b[0m\u001b[1;33m\u001b[0m\u001b[0m\n\u001b[1;32m--> 506\u001b[1;33m                 \u001b[1;32mraise\u001b[0m \u001b[0mSSLError\u001b[0m\u001b[1;33m(\u001b[0m\u001b[0me\u001b[0m\u001b[1;33m,\u001b[0m \u001b[0mrequest\u001b[0m\u001b[1;33m=\u001b[0m\u001b[0mrequest\u001b[0m\u001b[1;33m)\u001b[0m\u001b[1;33m\u001b[0m\u001b[0m\n\u001b[0m\u001b[0;32m    507\u001b[0m \u001b[1;33m\u001b[0m\u001b[0m\n\u001b[0;32m    508\u001b[0m             \u001b[1;32mraise\u001b[0m \u001b[0mConnectionError\u001b[0m\u001b[1;33m(\u001b[0m\u001b[0me\u001b[0m\u001b[1;33m,\u001b[0m \u001b[0mrequest\u001b[0m\u001b[1;33m=\u001b[0m\u001b[0mrequest\u001b[0m\u001b[1;33m)\u001b[0m\u001b[1;33m\u001b[0m\u001b[0m\n",
      "\u001b[1;31mSSLError\u001b[0m: HTTPSConnectionPool(host='www.douban.com', port=443): Max retries exceeded with url: /accounts/login (Caused by SSLError(SSLError(\"bad handshake: Error([('SSL routines', 'tls_process_server_certificate', 'certificate verify failed')],)\",),))"
     ]
    }
   ],
   "source": [
    "#需求：登录豆瓣电影，爬取登录成功后的页面数据\n",
    "\n",
    "import requests\n",
    "url = 'https://www.douban.com/accounts/login'\n",
    "\n",
    "#对post请求携带的参数进行字典封装\n",
    "data = {\n",
    "    \"source\": \"index_nav\",\n",
    "    \"form_email\": \"15027900535\",\n",
    "    \"form_password\": \"bobo@15027900535\",\n",
    "}\n",
    "response = requests.post(url=url,data=data)\n",
    "\n",
    "page_text = response.text\n",
    "\n",
    "with open('douban.html','w',encoding='utf-8') as fp:\n",
    "    fp.write(page_text)\n",
    "    print('over')"
   ]
  },
  {
   "cell_type": "code",
   "execution_count": 24,
   "metadata": {
    "collapsed": true
   },
   "outputs": [
    {
     "name": "stdout",
     "output_type": "stream",
     "text": [
      "[{\"rating\":[\"8.6\",\"45\"],\"rank\":101,\"cover_url\":\"https://img3.doubanio.com\\/view\\/photo\\/s_ratio_poster\\/public\\/p2175712032.jpg\",\"is_playable\":true,\"id\":\"1301617\",\"types\":[\"剧情\",\"爱情\",\"家庭\"],\"regions\":[\"美国\"],\"title\":\"不一样的天空\",\"url\":\"https:\\/\\/movie.douban.com\\/subject\\/1301617\\/\",\"release_date\":\"1993-12-17\",\"actor_count\":11,\"vote_count\":88471,\"score\":\"8.6\",\"actors\":[\"约翰尼·德普\",\"莱昂纳多·迪卡普里奥\",\"朱丽叶特·刘易斯\",\"玛丽·斯汀伯根\",\"达尔莱尼·凯茨\",\"马里·凯特·舒切尔哈德特\",\"凯文·泰德\",\"约翰·C·赖利\",\"克里斯平·格洛弗\",\"劳拉·哈灵顿\",\"蒂姆·格林\"],\"is_watched\":false},{\"rating\":[\"8.6\",\"45\"],\"rank\":102,\"cover_url\":\"https://img3.doubanio.com\\/view\\/photo\\/s_ratio_poster\\/public\\/p467734271.jpg\",\"is_playable\":false,\"id\":\"1301106\",\"types\":[\"爱情\",\"剧情\"],\"regions\":[\"德国\",\"匈牙利\"],\"title\":\"布达佩斯之恋\",\"url\":\"https:\\/\\/movie.douban.com\\/subject\\/1301106\\/\",\"release_date\":\"1999-10-21\",\"actor_count\":5,\"vote_count\":61633,\"score\":\"8.6\",\"actors\":[\"艾丽卡·莫露珊\",\"约阿希姆·克罗尔\",\"斯特法诺·迪奥尼斯\",\"本·贝克\",\"安德拉斯·巴林特\"],\"is_watched\":false},{\"rating\":[\"8.6\",\"45\"],\"rank\":103,\"cover_url\":\"https://img3.doubanio.com\\/view\\/photo\\/s_ratio_poster\\/public\\/p619900470.jpg\",\"is_playable\":false,\"id\":\"1296987\",\"types\":[\"喜剧\",\"剧情\",\"爱情\"],\"regions\":[\"美国\"],\"title\":\"安妮·霍尔\",\"url\":\"https:\\/\\/movie.douban.com\\/subject\\/1296987\\/\",\"release_date\":\"1977-04-20\",\"actor_count\":7,\"vote_count\":51627,\"score\":\"8.6\",\"actors\":[\"伍迪·艾伦\",\"黛安·基顿\",\"谢莉·杜瓦尔\",\"保罗·西蒙\",\"卡罗尔·凯恩\",\"克里斯托弗·沃肯\",\"西格妮·韦弗\"],\"is_watched\":false},{\"rating\":[\"8.6\",\"45\"],\"rank\":104,\"cover_url\":\"https://img1.doubanio.com\\/view\\/photo\\/s_ratio_poster\\/public\\/p1132971627.jpg\",\"is_playable\":false,\"id\":\"1304942\",\"types\":[\"剧情\",\"爱情\"],\"regions\":[\"英国\"],\"title\":\"两小无猜\",\"url\":\"https:\\/\\/movie.douban.com\\/subject\\/1304942\\/\",\"release_date\":\"1971-04-21\",\"actor_count\":3,\"vote_count\":34843,\"score\":\"8.6\",\"actors\":[\"马克·莱斯特\",\"特雷西·海德\",\"杰克·瓦尔德\"],\"is_watched\":false},{\"rating\":[\"8.6\",\"45\"],\"rank\":105,\"cover_url\":\"https://img1.doubanio.com\\/view\\/photo\\/s_ratio_poster\\/public\\/p2047680289.jpg\",\"is_playable\":false,\"id\":\"1421278\",\"types\":[\"剧情\",\"喜剧\",\"爱情\",\"同性\"],\"regions\":[\"美国\"],\"title\":\"面子\",\"url\":\"https:\\/\\/movie.douban.com\\/subject\\/1421278\\/\",\"release_date\":\"2004-09-12\",\"actor_count\":5,\"vote_count\":31172,\"score\":\"8.6\",\"actors\":[\"陈冲\",\"杨雅慧\",\"陈凌\",\"王进\",\"Guang Lan Koh\"],\"is_watched\":false},{\"rating\":[\"8.6\",\"45\"],\"rank\":106,\"cover_url\":\"https://img3.doubanio.com\\/view\\/photo\\/s_ratio_poster\\/public\\/p2252066664.jpg\",\"is_playable\":true,\"id\":\"1295742\",\"types\":[\"剧情\",\"爱情\",\"运动\"],\"regions\":[\"美国\"],\"title\":\"洛奇\",\"url\":\"https:\\/\\/movie.douban.com\\/subject\\/1295742\\/\",\"release_date\":\"1976-12-03\",\"actor_count\":5,\"vote_count\":26891,\"score\":\"8.6\",\"actors\":[\"西尔维斯特·史泰龙\",\"塔莉娅·夏尔\",\"波特·杨\",\"卡尔·韦瑟斯\",\"布吉斯·梅迪斯\"],\"is_watched\":false},{\"rating\":[\"8.6\",\"45\"],\"rank\":107,\"cover_url\":\"https://img3.doubanio.com\\/view\\/photo\\/s_ratio_poster\\/public\\/p483488366.jpg\",\"is_playable\":false,\"id\":\"1389924\",\"types\":[\"剧情\",\"犯罪\",\"爱情\"],\"regions\":[\"日本\"],\"title\":\"青之炎\",\"url\":\"https:\\/\\/movie.douban.com\\/subject\\/1389924\\/\",\"release_date\":\"2003-03-15\",\"actor_count\":4,\"vote_count\":25524,\"score\":\"8.6\",\"actors\":[\"二宫和也\",\"松浦亚弥\",\"铃木杏\",\"中村梅雀\"],\"is_watched\":false},{\"rating\":[\"8.6\",\"45\"],\"rank\":108,\"cover_url\":\"https://img1.doubanio.com\\/view\\/photo\\/s_ratio_poster\\/public\\/p2029605819.jpg\",\"is_playable\":true,\"id\":\"1323746\",\"types\":[\"剧情\",\"爱情\"],\"regions\":[\"中国大陆\"],\"title\":\"小城之春\",\"url\":\"https:\\/\\/movie.douban.com\\/subject\\/1323746\\/\",\"release_date\":\"1948\",\"actor_count\":5,\"vote_count\":23939,\"score\":\"8.6\",\"actors\":[\"李纬\",\"韦伟\",\"石羽\",\"张鸿眉\",\"崔超明\"],\"is_watched\":false},{\"rating\":[\"8.6\",\"45\"],\"rank\":109,\"cover_url\":\"https://img3.doubanio.com\\/view\\/photo\\/s_ratio_poster\\/public\\/p1949265483.jpg\",\"is_playable\":true,\"id\":\"1303001\",\"types\":[\"喜剧\",\"剧情\",\"爱情\"],\"regions\":[\"俄罗斯\",\"法国\",\"意大利\",\"捷克\"],\"title\":\"西伯利亚的理发师\",\"url\":\"https:\\/\\/movie.douban.com\\/subject\\/1303001\\/\",\"release_date\":\"1998-10-30\",\"actor_count\":5,\"vote_count\":23825,\"score\":\"8.6\",\"actors\":[\"朱莉娅·奥蒙德\",\"欧列格·缅希科夫\",\"阿列克谢·彼得连科\",\"理查德·哈里斯\",\"弗拉基米尔·伊利因\"],\"is_watched\":false},{\"rating\":[\"8.6\",\"45\"],\"rank\":110,\"cover_url\":\"https://img3.doubanio.com\\/view\\/photo\\/s_ratio_poster\\/public\\/p1389070372.jpg\",\"is_playable\":false,\"id\":\"3443074\",\"types\":[\"剧情\",\"爱情\"],\"regions\":[\"土耳其\"],\"title\":\"寂寞芳心\",\"url\":\"https:\\/\\/movie.douban.com\\/subject\\/3443074\\/\",\"release_date\":\"2008-11-07\",\"actor_count\":5,\"vote_count\":14676,\"score\":\"8.6\",\"actors\":[\"梅莉丝·柏坎\",\"杰玛勒·胡那勒\",\"Yildiz Kültür\",\"Serif Bozkurt\",\"Gözde Kansu\"],\"is_watched\":false},{\"rating\":[\"8.6\",\"45\"],\"rank\":111,\"cover_url\":\"https://img3.doubanio.com\\/view\\/photo\\/s_ratio_poster\\/public\\/p1188142682.jpg\",\"is_playable\":false,\"id\":\"1299481\",\"types\":[\"传记\",\"剧情\",\"爱情\"],\"regions\":[\"英国\",\"美国\"],\"title\":\"查令十字街84号\",\"url\":\"https:\\/\\/movie.douban.com\\/subject\\/1299481\\/\",\"release_date\":\"1987-02-13\",\"actor_count\":15,\"vote_count\":13395,\"score\":\"8.6\",\"actors\":[\"安妮·班克罗夫特\",\"安东尼·霍普金斯\",\"朱迪·丹奇\",\"吉恩·代·巴尔\",\"莫瑞斯·德纳姆\",\"埃莉诺·戴维\",\"梅塞迪丝·鲁尔\",\"丹尼尔·格罗尔\",\"温迪·摩根\",\"伊恩·麦克尼奇\",\"吉恩·史密斯-卡梅隆\",\"汤姆·伊斯贝尔\",\"安妮·戴森\",\"康妮·布斯\",\"罗恩·卡罗尔\"],\"is_watched\":false},{\"rating\":[\"8.6\",\"45\"],\"rank\":112,\"cover_url\":\"https://img1.doubanio.com\\/view\\/photo\\/s_ratio_poster\\/public\\/p675084528.jpg\",\"is_playable\":false,\"id\":\"2375792\",\"types\":[\"剧情\",\"爱情\"],\"regions\":[\"德国\"],\"title\":\"樱花盛开\",\"url\":\"https:\\/\\/movie.douban.com\\/subject\\/2375792\\/\",\"release_date\":\"2008-03-06\",\"actor_count\":5,\"vote_count\":5791,\"score\":\"8.6\",\"actors\":[\"艾尔玛·韦伯\",\"汉内洛勒·埃尔斯纳\",\"Aya Irizuki\",\"马克西米连·布鲁克纳\",\"纳嘉·乌尔\"],\"is_watched\":false},{\"rating\":[\"8.6\",\"45\"],\"rank\":113,\"cover_url\":\"https://img1.doubanio.com\\/view\\/photo\\/s_ratio_poster\\/public\\/p2319858048.jpg\",\"is_playable\":false,\"id\":\"1298870\",\"types\":[\"剧情\",\"爱情\"],\"regions\":[\"日本\"],\"title\":\"浮云\",\"url\":\"https:\\/\\/movie.douban.com\\/subject\\/1298870\\/\",\"release_date\":\"1955-01-15\",\"actor_count\":3,\"vote_count\":5560,\"score\":\"8.6\",\"actors\":[\"高峰秀子\",\"森雅之\",\"冈田茉莉子\"],\"is_watched\":false},{\"rating\":[\"8.6\",\"45\"],\"rank\":114,\"cover_url\":\"https://img3.doubanio.com\\/view\\/photo\\/s_ratio_poster\\/public\\/p2494302395.jpg\",\"is_playable\":true,\"id\":\"1297585\",\"types\":[\"爱情\"],\"regions\":[\"苏联\"],\"title\":\"两个人的车站\",\"url\":\"https:\\/\\/movie.douban.com\\/subject\\/1297585\\/\",\"release_date\":\"1983-02-11\",\"actor_count\":11,\"vote_count\":5281,\"score\":\"8.6\",\"actors\":[\"柳德米拉·古尔琴柯\",\"奥列格·巴希拉什维利\",\"尼基塔·米哈尔科夫\",\"诺娜·莫尔久科娃\",\"Mikhail Kononov\",\"安娜斯塔希娅·沃兹涅先斯卡娅\",\"Aleksandr Shirvindt\",\"塔吉雅娜·多吉列娃\",\"奥莉嘉·沃尔科娃\",\"斯塔尼斯拉夫·萨达尔斯基\",\"Alla Budnitskaya\"],\"is_watched\":false},{\"rating\":[\"8.6\",\"45\"],\"rank\":115,\"cover_url\":\"https://img3.doubanio.com\\/view\\/photo\\/s_ratio_poster\\/public\\/p2191175944.jpg\",\"is_playable\":false,\"id\":\"1950233\",\"types\":[\"喜剧\",\"爱情\",\"动画\"],\"regions\":[\"美国\"],\"title\":\"飞出个未来大电影1：班德大行动\",\"url\":\"https:\\/\\/movie.douban.com\\/subject\\/1950233\\/\",\"release_date\":\"2007-11-27\",\"actor_count\":17,\"vote_count\":3405,\"score\":\"8.6\",\"actors\":[\"比利·维斯特\",\"凯特蕾·萨加尔\",\"约翰·迪·玛吉欧\",\"特蕾丝·麦克尼尔\",\"莫里斯·拉马奇\",\"菲尔·拉马\",\"劳伦·汤姆\",\"大卫·赫尔曼\",\"达恩·刘易斯\",\"凯斯·索西\",\"弗兰克·维尔克\",\"库里奥\",\"阿尔·戈尔\",\"马克·哈米尔\",\"汤姆·肯尼\",\"萨拉·西尔弗曼\",\"催眠蛤蟆\"],\"is_watched\":false},{\"rating\":[\"8.6\",\"45\"],\"rank\":116,\"cover_url\":\"https://img3.doubanio.com\\/view\\/photo\\/s_ratio_poster\\/public\\/p2364688392.jpg\",\"is_playable\":false,\"id\":\"3742981\",\"types\":[\"剧情\",\"爱情\"],\"regions\":[\"印度\"],\"title\":\"雨中的请求\",\"url\":\"https:\\/\\/movie.douban.com\\/subject\\/3742981\\/\",\"release_date\":\"2010-11-19\",\"actor_count\":5,\"vote_count\":3154,\"score\":\"8.6\",\"actors\":[\"赫里尼克·罗斯汉\",\"艾西瓦娅·雷\",\"Nafisa Ali\",\"Aditya Roy Kapoor\",\"Monikangana Dutta\"],\"is_watched\":false},{\"rating\":[\"8.6\",\"45\"],\"rank\":117,\"cover_url\":\"https://img1.doubanio.com\\/view\\/photo\\/s_ratio_poster\\/public\\/p2532136348.jpg\",\"is_playable\":false,\"id\":\"1298250\",\"types\":[\"冒险\",\"传记\",\"喜剧\",\"剧情\",\"爱情\"],\"regions\":[\"法国\"],\"title\":\"母亲的城堡\",\"url\":\"https:\\/\\/movie.douban.com\\/subject\\/1298250\\/\",\"release_date\":\"1990-10-26\",\"actor_count\":8,\"vote_count\":2577,\"score\":\"8.6\",\"actors\":[\"菲利普·科贝尔\",\"娜莎丽·罗赛\",\"迪迪埃·潘\",\"泰蕾兹·利奥塔尔\",\"朱利安·恰马卡\",\"Victorien Delamare\",\"Joris Molinas\",\"皮埃尔·马格隆\"],\"is_watched\":false},{\"rating\":[\"8.6\",\"45\"],\"rank\":118,\"cover_url\":\"https://img3.doubanio.com\\/view\\/photo\\/s_ratio_poster\\/public\\/p978240555.jpg\",\"is_playable\":true,\"id\":\"1296067\",\"types\":[\"传记\",\"剧情\",\"爱情\"],\"regions\":[\"英国\"],\"title\":\"影子大地\",\"url\":\"https:\\/\\/movie.douban.com\\/subject\\/1296067\\/\",\"release_date\":\"1994-03-04\",\"actor_count\":7,\"vote_count\":1614,\"score\":\"8.6\",\"actors\":[\"安东尼·霍普金斯\",\"德博拉·温格\",\"朱利安·费罗斯\",\"约瑟夫·梅泽罗\",\"爱德华·哈德威克\",\"罗迪·莫德-罗克斯比\",\"迈克尔·丹尼森\"],\"is_watched\":false},{\"rating\":[\"8.6\",\"45\"],\"rank\":119,\"cover_url\":\"https://img3.doubanio.com\\/view\\/photo\\/s_ratio_poster\\/public\\/p2175881833.jpg\",\"is_playable\":false,\"id\":\"25853123\",\"types\":[\"剧情\",\"爱情\",\"动画\"],\"regions\":[\"日本\"],\"title\":\"人生Best Ten\",\"url\":\"https:\\/\\/movie.douban.com\\/subject\\/25853123\\/\",\"release_date\":\"2013-03-17\",\"actor_count\":2,\"vote_count\":1527,\"score\":\"8.6\",\"actors\":[\"中谷美纪\",\"神谷浩史\"],\"is_watched\":false},{\"rating\":[\"8.6\",\"45\"],\"rank\":120,\"cover_url\":\"https://img1.doubanio.com\\/view\\/photo\\/s_ratio_poster\\/public\\/p2184830677.jpg\",\"is_playable\":true,\"id\":\"1440040\",\"types\":[\"剧情\",\"战争\",\"爱情\"],\"regions\":[\"苏联\",\"East Germany\",\"波兰\",\"意大利\"],\"title\":\"解放\",\"url\":\"https:\\/\\/movie.douban.com\\/subject\\/1440040\\/\",\"release_date\":\"1970-05-07\",\"actor_count\":15,\"vote_count\":1248,\"score\":\"8.6\",\"actors\":[\"拉里莎·戈卢布金娜\",\"Bukhuti Zakariadze\",\"瓦西里·舒克申\",\"尼古拉·雷布尼科夫\",\"弗拉季斯拉夫·斯特尔热利奇克\",\"Yevgeni Burenkov\",\"阿纳托利·罗马申\",\"彼得·谢尔巴科夫\",\"伊万·彼列维捷夫\",\"弗拉德连·达维多夫\",\"Sergei Kharchenko\",\"德米特里·弗兰科\",\"Nikolay Rushkovskiy\",\"米哈伊尔·诺日金\",\"尼古拉·奥利亚宁\"],\"is_watched\":false}]\n"
     ]
    }
   ],
   "source": [
    "#爬取豆瓣电影分类排行榜 https://movie.douban.com/中的电影详情数据\n",
    "import requests\n",
    "url = 'https://movie.douban.com/j/chart/top_list?'\n",
    "\n",
    "param = {\n",
    "    \"type\": \"13\",\n",
    "    \"interval_id\": \"100:90\",\n",
    "    \"action\": \"\",\n",
    "    \"start\": \"100\",\n",
    "    \"limit\": \"20\",\n",
    "}\n",
    "response = requests.get(url=url,params=param,proxies={'https':'121.139.218.165:31409'})\n",
    "\n",
    "print(response.text)"
   ]
  },
  {
   "cell_type": "code",
   "execution_count": 25,
   "metadata": {
    "collapsed": true
   },
   "outputs": [
    {
     "name": "stdout",
     "output_type": "stream",
     "text": [
      "enter a city:上海\n"
     ]
    },
    {
     "data": {
      "text/plain": [
       "'{\"Table\":[{\"rowcount\":28}],\"Table1\":[{\"rownum\":1,\"storeName\":\"开发区上海路\",\"addressDetail\":\"开发区上海路80号乐天玛特超一楼\",\"pro\":\"Wi-Fi,礼品卡,生日餐会\",\"provinceName\":\"江苏省\",\"cityName\":\"南通市\"},{\"rownum\":2,\"storeName\":\"太仓新区东亭路\",\"addressDetail\":\"太仓市娄江路与县府街交叉口西南侧（太仓新区上海路北、东亭路东地块）万达广场\",\"pro\":\"Wi-Fi,店内参观,礼品卡\",\"provinceName\":\"江苏省\",\"cityName\":\"苏州市\"},{\"rownum\":3,\"storeName\":\"动力南广场（汇金奥特莱斯B1层）\",\"addressDetail\":\"石龙路750-3号上海南站地下商场南馆\",\"pro\":\"Wi-Fi,店内参观,礼品卡\",\"provinceName\":\"上海市\",\"cityName\":\"上海市\"},{\"rownum\":4,\"storeName\":\"谷阳\",\"addressDetail\":\"松汇中路568号上海鹿都商业广场\",\"pro\":\"Wi-Fi,店内参观,礼品卡,生日餐会,溯源\",\"provinceName\":\"上海市\",\"cityName\":\"上海市\"},{\"rownum\":5,\"storeName\":\"南广场\",\"addressDetail\":\"秣陵路303号上海火车站西南出口一侧\",\"pro\":\"Wi-Fi,礼品卡\",\"provinceName\":\"上海市\",\"cityName\":\"上海市\"},{\"rownum\":6,\"storeName\":\"北广场\",\"addressDetail\":\"秣陵路303号上海站北广场北立面1F大厅入口西侧位置\",\"pro\":\"Wi-Fi\",\"provinceName\":\"上海市\",\"cityName\":\"上海市\"},{\"rownum\":7,\"storeName\":\"南站精选（火车站站内）\",\"addressDetail\":\"沪闵路9001号上海南站候车大厅\",\"pro\":\"精选店,礼品卡\",\"provinceName\":\"上海市\",\"cityName\":\"上海市\"},{\"rownum\":8,\"storeName\":\"上海滩\",\"addressDetail\":\"佘山林湖路888号-1上海滩区5号\",\"pro\":\"精选店,礼品卡\",\"provinceName\":\"上海市\",\"cityName\":\"上海市\"},{\"rownum\":9,\"storeName\":\"动力南精选（3号线2号出口）\",\"addressDetail\":\"沪闵路9001号上海南站（1F三角地A-1）一层\",\"pro\":\"精选店,礼品卡\",\"provinceName\":\"上海市\",\"cityName\":\"上海市\"},{\"rownum\":10,\"storeName\":\"上海南路\",\"addressDetail\":\"上海南路3号699生活空间3号楼\",\"pro\":\"Wi-Fi,店内参观,礼品卡,生日餐会\",\"provinceName\":\"江西省\",\"cityName\":\"南昌市\"}]}'"
      ]
     },
     "execution_count": 25,
     "metadata": {},
     "output_type": "execute_result"
    }
   ],
   "source": [
    "#需求：爬取肯德基餐厅查询http://www.kfc.com.cn/kfccda/index.aspx中指定地点的餐厅数据\n",
    "import requests\n",
    "\n",
    "url = 'http://www.kfc.com.cn/kfccda/ashx/GetStoreList.ashx?op=keyword'\n",
    "city = input('enter a city:')\n",
    "data = {\n",
    "    \"cname\":\"\",\n",
    "    \"pid\":\"\",\n",
    "    \"keyword\":city,\n",
    "    \"pageIndex\":\"2\",\n",
    "    \"pageSize\":\"10\",\n",
    "}\n",
    "response = requests.post(url=url,data=data)\n",
    "\n",
    "response.text"
   ]
  },
  {
   "cell_type": "code",
   "execution_count": 31,
   "metadata": {
    "collapsed": true
   },
   "outputs": [
    {
     "name": "stdout",
     "output_type": "stream",
     "text": [
      "enter a start page:1\n",
      "enter a end page:5\n",
      "第1页下载成功\n",
      "第2页下载成功\n",
      "第3页下载成功\n",
      "第4页下载成功\n",
      "第5页下载成功\n"
     ]
    }
   ],
   "source": [
    "#需求：爬取博客园指定页面下的页面数据\n",
    "import requests\n",
    "import os\n",
    "url = 'https://www.cnblogs.com/#p'\n",
    "\n",
    "#新建一个文件夹\n",
    "if not os.path.exists('boke'):\n",
    "    os.mkdir('boke')\n",
    "\n",
    "#提供一组页码的范围\n",
    "start_page = int(input('enter a start page:'))\n",
    "end_page = int(input('enter a end page:'))\n",
    "\n",
    "for page in range(start_page,end_page+1):\n",
    "    url =url + str(page)\n",
    "    response = requests.get(url=url,proxies={'https':'121.139.218.165:31409'})\n",
    "    page_text = response.text\n",
    "    \n",
    "    fileName = str(page)+\".html\"\n",
    "    filePath = './boke/'+fileName\n",
    "    with open(filePath,'w',encoding='utf-8') as fp:\n",
    "        fp.write(page_text)\n",
    "        print('第%d页下载成功'%page)\n",
    "\n"
   ]
  },
  {
   "cell_type": "code",
   "execution_count": null,
   "metadata": {},
   "outputs": [],
   "source": [
    "#反爬机制：UA验证\n",
    "#反反爬机制：UA身份的伪装\n",
    "#流程：封装一个请求头字典（UA）。将该字典作用到请求对象中"
   ]
  },
  {
   "cell_type": "code",
   "execution_count": 32,
   "metadata": {
    "collapsed": true
   },
   "outputs": [
    {
     "name": "stdout",
     "output_type": "stream",
     "text": [
      "enter a city:北京\n"
     ]
    },
    {
     "data": {
      "text/plain": [
       "'{\"Table\":[{\"rowcount\":68}],\"Table1\":[{\"rownum\":11,\"storeName\":\"巴沟\",\"addressDetail\":\"巴沟路2号北京华联万柳购物中心一层\",\"pro\":\"Wi-Fi,礼品卡,生日餐会\",\"provinceName\":\"北京市\",\"cityName\":\"北京市\"},{\"rownum\":12,\"storeName\":\"北京站宝宸\",\"addressDetail\":\"北京站街22号一层+二层\",\"pro\":\"礼品卡\",\"provinceName\":\"北京市\",\"cityName\":\"北京市\"},{\"rownum\":13,\"storeName\":\"欢乐谷\",\"addressDetail\":\"南磨房乡小武基北路北京欢乐谷内欢乐时光区一层\",\"pro\":\"礼品卡\",\"provinceName\":\"北京市\",\"cityName\":\"北京市\"},{\"rownum\":14,\"storeName\":\"亦庄沃尔玛\",\"addressDetail\":\"经济技术开发区文化园东路6号北京经开汇展中心1-2层\",\"pro\":\"Wi-Fi,店内参观,礼品卡,生日餐会\",\"provinceName\":\"北京市\",\"cityName\":\"北京市\"},{\"rownum\":15,\"storeName\":\"北京南站二\",\"addressDetail\":\"北京南站候车大厅地下一层（快速进站口1）部分场地\",\"pro\":\"礼品卡\",\"provinceName\":\"北京市\",\"cityName\":\"北京市\"},{\"rownum\":16,\"storeName\":\"北京站Select\",\"addressDetail\":\"北京火车站候车大厅一层西侧原商务中心\",\"pro\":\"精选店,礼品卡\",\"provinceName\":\"北京市\",\"cityName\":\"北京市\"},{\"rownum\":17,\"storeName\":\"西客站内三\",\"addressDetail\":\"莲花桥东路118号北京西客站候车大厅内2层第4营业厅及2层夹层回廊\",\"pro\":\"礼品卡\",\"provinceName\":\"北京市\",\"cityName\":\"北京市\"},{\"rownum\":18,\"storeName\":\"通州北苑华联\",\"addressDetail\":\"杨庄北里五十二号天时名苑小区十四号楼北京华联南侧一层\",\"pro\":\"Wi-Fi,点唱机,店内参观,礼品卡,生日餐会\",\"provinceName\":\"北京市\",\"cityName\":\"北京市\"},{\"rownum\":19,\"storeName\":\"日照银座餐厅\",\"addressDetail\":\"北京路与泰安路交汇处银座商城一楼\",\"pro\":\"Wi-Fi,礼品卡,生日餐会\",\"provinceName\":\"山东省\",\"cityName\":\"日照市\"},{\"rownum\":20,\"storeName\":\"荆州北京路\",\"addressDetail\":\"沙区北京中路227号肯德基餐厅\",\"pro\":\"Wi-Fi,点唱机,礼品卡,生日餐会,手机点餐\",\"provinceName\":\"湖北省\",\"cityName\":\"荆州市\"}]}'"
      ]
     },
     "execution_count": 32,
     "metadata": {},
     "output_type": "execute_result"
    }
   ],
   "source": [
    "import requests\n",
    "\n",
    "url = 'http://www.kfc.com.cn/kfccda/ashx/GetStoreList.ashx?op=keyword'\n",
    "city = input('enter a city:')\n",
    "data = {\n",
    "    \"cname\":\"\",\n",
    "    \"pid\":\"\",\n",
    "    \"keyword\":city,\n",
    "    \"pageIndex\":\"2\",\n",
    "    \"pageSize\":\"10\",\n",
    "}\n",
    "#自制定请求头信息\n",
    "headers = {\n",
    "    \"User-Agent\": \"Mozilla/5.0 (Windows NT 6.1; Win64; x64) AppleWebKit/537.36 (KHTML, like Gecko) Chrome/69.0.3497.81 Safari/537.36\"\n",
    "}\n",
    "response = requests.post(url=url,data=data,headers=headers)\n",
    "\n",
    "response.text"
   ]
  },
  {
   "cell_type": "code",
   "execution_count": null,
   "metadata": {},
   "outputs": [],
   "source": []
  }
 ],
 "metadata": {
  "kernelspec": {
   "display_name": "Python 3",
   "language": "python",
   "name": "python3"
  },
  "language_info": {
   "codemirror_mode": {
    "name": "ipython",
    "version": 3
   },
   "file_extension": ".py",
   "mimetype": "text/x-python",
   "name": "python",
   "nbconvert_exporter": "python",
   "pygments_lexer": "ipython3",
   "version": "3.6.3"
  }
 },
 "nbformat": 4,
 "nbformat_minor": 2
}
