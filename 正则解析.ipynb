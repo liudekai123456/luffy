{
 "cells": [
  {
   "cell_type": "code",
   "execution_count": 13,
   "metadata": {},
   "outputs": [],
   "source": [
    "import re"
   ]
  },
  {
   "cell_type": "code",
   "execution_count": 15,
   "metadata": {},
   "outputs": [
    {
     "data": {
      "text/plain": [
       "'python'"
      ]
     },
     "execution_count": 15,
     "metadata": {},
     "output_type": "execute_result"
    }
   ],
   "source": [
    "#提取出python\n",
    "key=\"javapythonc++php\"\n",
    "re.findall('python',key)[0]"
   ]
  },
  {
   "cell_type": "code",
   "execution_count": 19,
   "metadata": {},
   "outputs": [
    {
     "data": {
      "text/plain": [
       "'hello world'"
      ]
     },
     "execution_count": 19,
     "metadata": {},
     "output_type": "execute_result"
    }
   ],
   "source": [
    "#提取出hello world\n",
    "key=\"<html><h1>hello world<h1></html>\"\n",
    "re.findall('<h1>(.*)<h1>',key)[0]"
   ]
  },
  {
   "cell_type": "code",
   "execution_count": 20,
   "metadata": {},
   "outputs": [
    {
     "data": {
      "text/plain": [
       "'170'"
      ]
     },
     "execution_count": 20,
     "metadata": {},
     "output_type": "execute_result"
    }
   ],
   "source": [
    "#提取170\n",
    "string = '我喜欢身高为170的女孩'\n",
    "re.findall('\\d+',string)[0]"
   ]
  },
  {
   "cell_type": "code",
   "execution_count": 21,
   "metadata": {},
   "outputs": [
    {
     "data": {
      "text/plain": [
       "['http://', 'https://']"
      ]
     },
     "execution_count": 21,
     "metadata": {},
     "output_type": "execute_result"
    }
   ],
   "source": [
    "#提取出http://和https://\n",
    "key='http://www.baidu.com and https://boob.com'\n",
    "re.findall('https?://',key)"
   ]
  },
  {
   "cell_type": "code",
   "execution_count": 24,
   "metadata": {},
   "outputs": [
    {
     "data": {
      "text/plain": [
       "['hello']"
      ]
     },
     "execution_count": 24,
     "metadata": {},
     "output_type": "execute_result"
    }
   ],
   "source": [
    "#提取出hello\n",
    "key='lalala<hTml>hello</HtMl>hahah' #输出<hTml>hello</HtMl>\n",
    "re.findall('<[hH][tT][mM][lL]>(.*)</[hH][tT][mM][lL]>',key)[0]"
   ]
  },
  {
   "cell_type": "code",
   "execution_count": 26,
   "metadata": {},
   "outputs": [
    {
     "data": {
      "text/plain": [
       "['hit.']"
      ]
     },
     "execution_count": 26,
     "metadata": {},
     "output_type": "execute_result"
    }
   ],
   "source": [
    "#提取出hit. :贪婪模式：尽可能多的匹配数据\n",
    "key='bobo@hit.edu.com'#想要匹配到hit.\n",
    "re.findall('h.*?\\.',key)"
   ]
  },
  {
   "cell_type": "code",
   "execution_count": 27,
   "metadata": {},
   "outputs": [
    {
     "data": {
      "text/plain": [
       "['saas', 'sas']"
      ]
     },
     "execution_count": 27,
     "metadata": {},
     "output_type": "execute_result"
    }
   ],
   "source": [
    "key='saas and sas and saaas'#匹配sas和saas\n",
    "re.findall('sa{1,2}s',key)"
   ]
  },
  {
   "cell_type": "code",
   "execution_count": 30,
   "metadata": {},
   "outputs": [
    {
     "data": {
      "text/plain": [
       "['i love you very much', 'i love she', 'i love her']"
      ]
     },
     "execution_count": 30,
     "metadata": {},
     "output_type": "execute_result"
    }
   ],
   "source": [
    "#匹配出i开头的行\n",
    "string = '''fall in love with you\n",
    "i love you very much\n",
    "i love she\n",
    "i love her'''\n",
    "re.findall('^i.*',string,re.M)"
   ]
  },
  {
   "cell_type": "code",
   "execution_count": 32,
   "metadata": {},
   "outputs": [
    {
     "data": {
      "text/plain": [
       "['<div>细思极恐\\n你的队友在看书\\n你的闺蜜在减肥\\n你的敌人在磨刀\\n隔壁老王在练腰\\n</div>', '']"
      ]
     },
     "execution_count": 32,
     "metadata": {},
     "output_type": "execute_result"
    }
   ],
   "source": [
    "#匹配全部行\n",
    "string1 = \"\"\"<div>细思极恐\n",
    "你的队友在看书\n",
    "你的闺蜜在减肥\n",
    "你的敌人在磨刀\n",
    "隔壁老王在练腰\n",
    "</div>\"\"\"\n",
    "re.findall('.*',string1,re.S)"
   ]
  },
  {
   "cell_type": "markdown",
   "metadata": {},
   "source": [
    "<div class=\"thumb\">\n",
    "<a href=\"/article/121201099\" target=\"_blank\">\n",
    "<img src=\"//pic.qiushibaike.com/system/pictures/12120/121201099/medium/UQAJ381FRGTUE2DC.jpg\" alt=\"世界上这样的商家不多了\">\n",
    "</a>\n",
    "</div>"
   ]
  },
  {
   "cell_type": "code",
   "execution_count": 35,
   "metadata": {
    "collapsed": true
   },
   "outputs": [
    {
     "name": "stdout",
     "output_type": "stream",
     "text": [
      "IIQP0CEW1G07HU2U.jpg下载成功\n",
      "UQAJ381FRGTUE2DC.jpg下载成功\n",
      "I9LCYZ2XF2F6BWNJ.jpg下载成功\n",
      "G1I4SXZ7HL4DTZAT.jpg下载成功\n",
      "MWO0O0REHL86TBFI.jpg下载成功\n",
      "587D6RNAILL0YMKF.jpg下载成功\n",
      "UQLH8UULXJ4WP4I3.jpg下载成功\n",
      "YO6Z779VMSIV4F0G.jpg下载成功\n",
      "T3G0RDFZXTU4SNP4.jpg下载成功\n",
      "FEABKYFGN96L108W.jpg下载成功\n",
      "N4BXIY9S8RJ1S6O4.jpg下载成功\n",
      "UGKB4RI9P29ZGN1A.jpg下载成功\n",
      "ANDEEX1JPW5WZAYJ.jpg下载成功\n",
      "B7BZBWRILS6RMMPI.jpg下载成功\n",
      "CLSGVLBXJLF2JZIZ.jpg下载成功\n",
      "JEBX5FD46J9YQ6R8.jpg下载成功\n",
      "VFW1SROF0JIMDIVO.jpg下载成功\n",
      "6XB9W300YGNE1BJG.jpg下载成功\n",
      "B0DQLJBT9JN3BARO.jpg下载成功\n",
      "FQ4PFA0L1NAS4C3P.jpg下载成功\n"
     ]
    }
   ],
   "source": [
    "#项目需求：爬取糗事百科指定页面的糗图，并将其保存到指定文件夹中\n",
    "import requests\n",
    "import re\n",
    "import os\n",
    "\n",
    "if not os.path.exists('qiutu'):\n",
    "    os.mkdir('qiutu')\n",
    "    \n",
    "url = 'https://www.qiushibaike.com/pic/'\n",
    "headers = {\n",
    "    'User-Agent': 'Mozilla/5.0 (Windows NT 6.1; Win64; x64) AppleWebKit/537.36 (KHTML, like Gecko) Chrome/69.0.3497.81 Safari/537.36'\n",
    "}\n",
    "response = requests.get(url=url,headers=headers)\n",
    "\n",
    "page_text = response.text\n",
    "\n",
    "#4.数据解析（正则）：图片\n",
    "img_url_list = re.findall('<div class=\"thumb\">.*?<img src=\"(.*?)\".*?>.*?</div>',page_text,re.S)\n",
    "for img_url in img_url_list:\n",
    "    #获取的是图片完整的url\n",
    "    img_url = \"https:\"+img_url\n",
    "    #针对图片url发起指定的请求，获取图片二进制的数据值\n",
    "    img_response = requests.get(url=img_url,headers=headers)\n",
    "    #获取响应对象中图片二进制的数据值\n",
    "    img_data = img_response.content\n",
    "    imgName = img_url.split('/')[-1]\n",
    "    imgPath = 'qiutu/'+imgName\n",
    "    #将图片数据存储到磁盘\n",
    "    with open(imgPath,'wb') as fp:\n",
    "        fp.write(img_data)\n",
    "        print(imgName+'下载成功')\n",
    "    "
   ]
  },
  {
   "cell_type": "code",
   "execution_count": null,
   "metadata": {},
   "outputs": [],
   "source": []
  }
 ],
 "metadata": {
  "kernelspec": {
   "display_name": "Python 3",
   "language": "python",
   "name": "python3"
  },
  "language_info": {
   "codemirror_mode": {
    "name": "ipython",
    "version": 3
   },
   "file_extension": ".py",
   "mimetype": "text/x-python",
   "name": "python",
   "nbconvert_exporter": "python",
   "pygments_lexer": "ipython3",
   "version": "3.6.3"
  }
 },
 "nbformat": 4,
 "nbformat_minor": 2
}
